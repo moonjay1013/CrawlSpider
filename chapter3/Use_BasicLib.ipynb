{
 "cells": [
  {
   "metadata": {},
   "cell_type": "markdown",
   "source": "<h2>基本库的使用</h2>",
   "id": "d96d32afb9f247c9"
  },
  {
   "metadata": {},
   "cell_type": "markdown",
   "source": [
    "urllib（Python 内置的 HTTP 请求库），包含以下4个模块：\n",
    "\n",
    "- request：它是最基本的 HTTP 请求模块，可以用来模拟发送请求。就像在浏览器里输入网址然后回车一样，只需要给库方法传入 URL 以及额外的参数，就可以模拟实现这个过程\n",
    "- error：异常处理模块，如果出现请求错误，我们可以捕获这些异常，然后进行重试或其他操作以保证程序不会意外终止。\n",
    "- parse：一个工具模块，提供了许多 URL 处理方法，比如拆分、解析、合并等。\n",
    "- robotparser：主要是用来识别网站的 robots.txt 文件，然后判断哪些网站可以爬，哪些网站不可以爬，它其实用得比较少。"
   ],
   "id": "1bfba2606520cce9"
  },
  {
   "metadata": {
    "ExecuteTime": {
     "end_time": "2024-07-09T09:48:26.334587Z",
     "start_time": "2024-07-09T09:48:17.063150Z"
    }
   },
   "cell_type": "code",
   "source": [
    "import urllib.request  \n",
    "\n",
    "response = urllib.request.urlopen('https://www.baidu.com')  \n",
    "print(response.read().decode('utf-8'))"
   ],
   "id": "f9e4a828d63ec64a",
   "outputs": [
    {
     "name": "stdout",
     "output_type": "stream",
     "text": [
      "<html>\r\n",
      "<head>\r\n",
      "\t<script>\r\n",
      "\t\tlocation.replace(location.href.replace(\"https://\",\"http://\"));\r\n",
      "\t</script>\r\n",
      "</head>\r\n",
      "<body>\r\n",
      "\t<noscript><meta http-equiv=\"refresh\" content=\"0;url=http://www.baidu.com/\"></noscript>\r\n",
      "</body>\r\n",
      "</html>\n"
     ]
    }
   ],
   "execution_count": 1
  }
 ],
 "metadata": {
  "kernelspec": {
   "display_name": "Python 3",
   "language": "python",
   "name": "python3"
  },
  "language_info": {
   "codemirror_mode": {
    "name": "ipython",
    "version": 2
   },
   "file_extension": ".py",
   "mimetype": "text/x-python",
   "name": "python",
   "nbconvert_exporter": "python",
   "pygments_lexer": "ipython2",
   "version": "2.7.6"
  }
 },
 "nbformat": 4,
 "nbformat_minor": 5
}
