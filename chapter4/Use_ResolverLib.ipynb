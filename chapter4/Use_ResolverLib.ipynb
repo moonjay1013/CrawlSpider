{
 "cells": [
  {
   "metadata": {},
   "cell_type": "markdown",
   "source": "<h2>解析库(XPath BeautifulSoup PyQuery)的使用</h2>",
   "id": "f62839817e5508b6"
  },
  {
   "metadata": {},
   "cell_type": "markdown",
   "source": [
    "提取页面信息时使用正则表达式比较烦琐，写错可能导致匹配失败（使用正则表达式提取页面信息不方便）。\n",
    "\n",
    "对于网页的节点来说，它可以定义 id、class 或其他属性。而且节点之间还有层次关系，\n",
    "\n",
    "在网页中可以通过 XPath 或 CSS 选择器来定位一个或多个节点。\n",
    "\n",
    "实现这个操作可以使用的解析库非常多，其中比较强大的库有 lxml、Beautiful Soup、pyquery 等。"
   ],
   "id": "10725b9a6d2ac1a7"
  },
  {
   "metadata": {},
   "cell_type": "markdown",
   "source": [
    "<h3>使用 XPath</h3>\n",
    "\n",
    "(XPath, XML Path Language)，即 XML 路径语言，它是一门在 XML 文档中查找信息的语言。它最初是用来搜寻 XML 文档的，但是它同样适用于 HTML 文档的搜索。\n",
    "\n",
    "\n",
    "XPath 于 1999 年 11 月 16 日成为 W3C 标准，它被设计为供 XSLT、XPointer 以及其他 XML 解析软件使用，更多的文档可以访问其官方网站：[https://www.w3.org/TR/xpath/](https://www.w3.org/TR/xpath/)"
   ],
   "id": "533f593908b3e6dc"
  },
  {
   "metadata": {},
   "cell_type": "markdown",
   "source": "",
   "id": "5712b8a05f70c7f8"
  },
  {
   "metadata": {},
   "cell_type": "markdown",
   "source": [
    "**XPath 常用规则**\n",
    "\n",
    "```\n",
    "表　达　式\t描　　述\n",
    "nodename\t选取此节点的所有子节点\n",
    "/\t从当前节点选取直接子节点\n",
    "//\t从当前节点选取子孙节点\n",
    ".\t选取当前节点\n",
    "..\t选取当前节点的父节点\n",
    "@\t选取属性\n",
    "```\n",
    "XPath 的常用匹配规则，示例：`//title[@lang='eng']`，它代表选择所有名称为 title，同时属性 lang 的值为 eng 的节点。"
   ],
   "id": "53ba8ecebc4168dc"
  },
  {
   "metadata": {},
   "cell_type": "markdown",
   "source": [
    "通过实例来感受一下使用 XPath 来对网页进行解析的过程，相关代码如下：\n",
    "> 注意：HTML 文本中的最后一个 `li` 节点是没有闭合的，但是 etree 模块可以自动修正 HTML 文本。（并且还自动添加了 `body`、`html` 节点）\n",
    "> \n",
    "> 调用 `tostring` 方法即可输出修正后的 HTML 代码，但是结果是 `bytes` 类型。这里利用 `decode` 方法将其转成 `str` 类型"
   ],
   "id": "88792faedcdb0e9d"
  },
  {
   "metadata": {
    "ExecuteTime": {
     "end_time": "2024-07-21T02:41:40.770499Z",
     "start_time": "2024-07-21T02:41:40.634153Z"
    }
   },
   "cell_type": "code",
   "source": [
    "from lxml import etree\n",
    "text = '''\n",
    "<div>\n",
    "    <ul>\n",
    "         <li class=\"item-0\"><a href=\"link1.html\">first item</a></li>\n",
    "         <li class=\"item-1\"><a href=\"link2.html\">second item</a></li>\n",
    "         <li class=\"item-inactive\"><a href=\"link3.html\">third item</a></li>\n",
    "         <li class=\"item-1\"><a href=\"link4.html\">fourth item</a></li>\n",
    "         <li class=\"item-0\"><a href=\"link5.html\">fifth item</a>\n",
    "     </ul>\n",
    " </div>\n",
    "'''\n",
    "html = etree.HTML(text)\n",
    "result = etree.tostring(html)\n",
    "print(result.decode('utf-8'))"
   ],
   "id": "f3bb2ba4ac91b735",
   "outputs": [
    {
     "name": "stdout",
     "output_type": "stream",
     "text": [
      "<html><body><div>\n",
      "    <ul>\n",
      "         <li class=\"item-0\"><a href=\"link1.html\">first item</a></li>\n",
      "         <li class=\"item-1\"><a href=\"link2.html\">second item</a></li>\n",
      "         <li class=\"item-inactive\"><a href=\"link3.html\">third item</a></li>\n",
      "         <li class=\"item-1\"><a href=\"link4.html\">fourth item</a></li>\n",
      "         <li class=\"item-0\"><a href=\"link5.html\">fifth item</a>\n",
      "     </li></ul>\n",
      " </div>\n",
      "</body></html>\n"
     ]
    }
   ],
   "execution_count": 1
  },
  {
   "metadata": {},
   "cell_type": "markdown",
   "source": [
    "另外，也可以直接读取文本文件进行解析，示例如下：\n",
    "```python\n",
    "from lxml import etree\n",
    "\n",
    "html = etree.parse('./test.html', etree.HTMLParser())\n",
    "result = etree.tostring(html)\n",
    "print(result.decode('utf-8'))\n",
    "```\n",
    "> 会多出一个 `DOCTYPE` 的声明"
   ],
   "id": "dd99b2bd88f7d675"
  },
  {
   "metadata": {},
   "cell_type": "markdown",
   "source": [
    "**所有节点**\n",
    "\n",
    "一般会用 `//` 开头的 XPath 规则来选取所有符合要求的节点。这里以前面的 HTML 文本为例，如果要选取所有节点，可以这样实现：\n",
    "```python\n",
    "from lxml import etree\n",
    "html = etree.parse('./test.html', etree.HTMLParser())\n",
    "result = html.xpath('//*')\n",
    "print(result)\n",
    "```\n",
    "\n",
    "使用 `*` 代表匹配所有节点，也就是整个 HTML 文本中的所有节点都会被获取。\n",
    "\n",
    "返回形式是一个列表，每个元素是 Element 类型，其后跟了节点的名称，如 `html、body、div、ul、li、a` 等，所有节点都包含在列表中了。\n",
    "\n",
    "想获取所有 li 节点：`result = html.xpath('//li')`"
   ],
   "id": "6b47927fa4eeacb4"
  },
  {
   "metadata": {},
   "cell_type": "markdown",
   "source": [
    "**子节点**\n",
    "\n",
    "通过 `/` 或 `//` 即可查找元素的子节点或子孙节点。\n",
    "\n",
    "假如想选择 li 节点的所有直接 a 子节点，可以这样实现："
   ],
   "id": "6fcdcc7fc31f6ae3"
  },
  {
   "metadata": {
    "ExecuteTime": {
     "end_time": "2024-07-21T02:48:36.511519Z",
     "start_time": "2024-07-21T02:48:36.507527Z"
    }
   },
   "cell_type": "code",
   "source": [
    "from lxml import etree\n",
    "\n",
    "text = '''\n",
    "<div>\n",
    "    <ul>\n",
    "         <li class=\"item-0\"><a href=\"link1.html\">first item</a></li>\n",
    "         <li class=\"item-1\"><a href=\"link2.html\">second item</a></li>\n",
    "         <li class=\"item-inactive\"><a href=\"link3.html\">third item</a></li>\n",
    "         <li class=\"item-1\"><a href=\"link4.html\">fourth item</a></li>\n",
    "         <li class=\"item-0\"><a href=\"link5.html\">fifth item</a>\n",
    "     </ul>\n",
    " </div>\n",
    "'''\n",
    "html = etree.HTML(text)\n",
    "result = html.xpath('//li/a')  # 等价于 `//li//a`\n",
    "print(result)"
   ],
   "id": "5615f5f26865d4a2",
   "outputs": [
    {
     "name": "stdout",
     "output_type": "stream",
     "text": [
      "[<Element a at 0x1519a62c1c0>, <Element a at 0x1519a62c280>, <Element a at 0x1519a62c440>, <Element a at 0x1519a62c900>, <Element a at 0x1519b844600>]\n"
     ]
    }
   ],
   "execution_count": 2
  },
  {
   "metadata": {},
   "cell_type": "markdown",
   "source": [
    "**父节点**\n",
    "\n",
    "假如知道了子节点，可以用`..`来查找父节点呢。\n",
    "\n",
    "比如，现在首先选中 `href` 属性为 `link4.html` 的 `a` 节点，然后再获取其父节点，然后再获取其 `class` 属性，\n",
    "\n",
    "相关代码：`result = html.xpath('//a[@href=\"link4.html\"]/../@class')`\n",
    "\n",
    "也可以通过 `parent::` 来获取父节点，代码：`result = html.xpath('//a[@href=\"link4.html\"]/parent::*/@class')`"
   ],
   "id": "ad6e49e025d0fd6d"
  },
  {
   "metadata": {},
   "cell_type": "markdown",
   "source": [
    "**文本获取**\n",
    "\n",
    "用 XPath 中的 `text` 方法获取节点中的文本，尝试获取前面 li 节点中的文本，相关代码：\n",
    "`result = html.xpath('//li[@class=\"item-0\"]/text()')` 或者 `result = html.xpath('//li[@class=\"item-0\"]//text()')`"
   ],
   "id": "cf79b85f65bb4b6"
  },
  {
   "metadata": {},
   "cell_type": "markdown",
   "source": [
    "**属性获取**\n",
    "\n",
    "节点属性用 `@`符号就可以获取。例如，想获取所有 li 节点下所有 a 节点的 href 属性，代码：`result = html.xpath('//li/a/@href')`"
   ],
   "id": "6d7e368d66bb8446"
  },
  {
   "metadata": {},
   "cell_type": "markdown",
   "source": [
    "**属性多值匹配**\n",
    "\n",
    "有时候，某些节点的某个属性可能有多个值，例如：\n",
    "> 这里 HTML 文本中 li 节点的 class 属性有两个值 li 和 li-first，此时如果还想用之前的属性匹配获取，就无法匹配了，此时的运行结果 —— `[]`"
   ],
   "id": "265279a23a0c4260"
  },
  {
   "metadata": {
    "ExecuteTime": {
     "end_time": "2024-07-21T03:04:27.089205Z",
     "start_time": "2024-07-21T03:04:27.085204Z"
    }
   },
   "cell_type": "code",
   "source": [
    "from lxml import etree  \n",
    "text = '''  \n",
    "<li class=\"li li-first\"><a href=\"link.html\">first item</a></li> \n",
    "'''  \n",
    "html = etree.HTML(text)  \n",
    "result = html.xpath('//li[@class=\"li\"]/a/text()')  \n",
    "print(result)"
   ],
   "id": "6f12d07ddb17fe06",
   "outputs": [
    {
     "name": "stdout",
     "output_type": "stream",
     "text": [
      "[]\n"
     ]
    }
   ],
   "execution_count": 3
  },
  {
   "metadata": {},
   "cell_type": "markdown",
   "source": "这时就需要用 `contains` 方法了，代码可以改写如下：",
   "id": "bb4f69378b70d521"
  },
  {
   "metadata": {
    "ExecuteTime": {
     "end_time": "2024-07-21T03:05:38.235744Z",
     "start_time": "2024-07-21T03:05:38.228743Z"
    }
   },
   "cell_type": "code",
   "source": [
    "from lxml import etree  \n",
    "text = '''  \n",
    "<li class=\"li li-first\"><a href=\"link.html\">first item</a></li>  \n",
    "'''  \n",
    "html = etree.HTML(text)  \n",
    "result = html.xpath('//li[contains(@class, \"li\")]/a/text()')  \n",
    "print(result)"
   ],
   "id": "af4f01d094378c4e",
   "outputs": [
    {
     "name": "stdout",
     "output_type": "stream",
     "text": [
      "['first item']\n"
     ]
    }
   ],
   "execution_count": 4
  },
  {
   "metadata": {},
   "cell_type": "markdown",
   "source": [
    "**多属性匹配**\n",
    "\n",
    "根据多个属性确定一个节点，需要同时匹配多个属性。此时可以使用运算符 `and` 来连接，示例如下："
   ],
   "id": "ecefad9e78f4e7ac"
  },
  {
   "metadata": {
    "ExecuteTime": {
     "end_time": "2024-07-21T03:06:48.444365Z",
     "start_time": "2024-07-21T03:06:48.432362Z"
    }
   },
   "cell_type": "code",
   "source": [
    "from lxml import etree  \n",
    "text = '''  \n",
    "<li class=\"li li-first\" name=\"item\"><a href=\"link.html\">first item</a></li>\n",
    "'''  \n",
    "html = etree.HTML(text)  \n",
    "result = html.xpath('//li[contains(@class, \"li\") and @name=\"item\"]/a/text()')  \n",
    "print(result)"
   ],
   "id": "9e8d59a91faea3d7",
   "outputs": [
    {
     "name": "stdout",
     "output_type": "stream",
     "text": [
      "['first item']\n"
     ]
    }
   ],
   "execution_count": 5
  },
  {
   "metadata": {},
   "cell_type": "markdown",
   "source": [
    "运算符及其介绍\n",
    "```\n",
    "运算符\t描　　述\t实　　例\t返　回　值\n",
    "or\t或\tage=19 or age=20\t如果 age 是 19，则返回 true。如果 age 是 21，则返回 false\n",
    "and\t与\tage>19 and age<21\t如果 age 是 20，则返回 true。如果 age 是 18，则返回 false\n",
    "mod\t计算除法的余数\t5 mod 2\t1\n",
    "计算两个节点集\t//book\n",
    "+\t加法\t6 + 4\t10\n",
    "-\t减法\t6 - 4\t2\n",
    "*\t乘法\t6 * 4\t24\n",
    "div\t除法\t8 div 4\t2\n",
    "=\t等于\tage=19\t如果 age 是 19，则返回 true。如果 age 是 20，则返回 false\n",
    "!=\t不等于\tage!=19\t如果 age 是 18，则返回 true。如果 age 是 19，则返回 false\n",
    "<\t小于\tage<19\t如果 age 是 18，则返回 true。如果 age 是 19，则返回 false\n",
    "<=\t小于或等于\tage<=19\t如果 age 是 19，则返回 true。如果 age 是 20，则返回 false\n",
    ">\t大于\tage>19\t如果 age 是 20，则返回 true。如果 age 是 19，则返回 false\n",
    ">=\t大于或等于\tage>=19\t如果 age 是 19，则返回 true。如果 age 是 18，则返回 false\n",
    "```"
   ],
   "id": "aad7fe7a49808e37"
  },
  {
   "metadata": {},
   "cell_type": "markdown",
   "source": [
    "**按序选择**\n",
    "\n",
    "在选择的时候某些属性可能同时匹配了多个节点，但是只想要其中的某个节点，如第二个节点或者最后一个节点，可以利用**中括号传入索引的方法获取特定次序的节点**，示例如下："
   ],
   "id": "6df3dc0a119be0f6"
  },
  {
   "metadata": {
    "ExecuteTime": {
     "end_time": "2024-07-21T03:08:15.777117Z",
     "start_time": "2024-07-21T03:08:15.767117Z"
    }
   },
   "cell_type": "code",
   "source": [
    "from lxml import etree\n",
    "\n",
    "text = '''\n",
    "<div>\n",
    "    <ul>\n",
    "         <li class=\"item-0\"><a href=\"link1.html\">first item</a></li>\n",
    "         <li class=\"item-1\"><a href=\"link2.html\">second item</a></li>\n",
    "         <li class=\"item-inactive\"><a href=\"link3.html\">third item</a></li>\n",
    "         <li class=\"item-1\"><a href=\"link4.html\">fourth item</a></li>\n",
    "         <li class=\"item-0\"><a href=\"link5.html\">fifth item</a>\n",
    "     </ul>\n",
    " </div>\n",
    "'''\n",
    "html = etree.HTML(text)\n",
    "result = html.xpath('//li[1]/a/text()')\n",
    "print(result)\n",
    "result = html.xpath('//li[last()]/a/text()')\n",
    "print(result)\n",
    "result = html.xpath('//li[position()<3]/a/text()')\n",
    "print(result)\n",
    "result = html.xpath('//li[last()-2]/a/text()')\n",
    "print(result)"
   ],
   "id": "a04f573abeda542b",
   "outputs": [
    {
     "name": "stdout",
     "output_type": "stream",
     "text": [
      "['first item']\n",
      "['fifth item']\n",
      "['first item', 'second item']\n",
      "['third item']\n"
     ]
    }
   ],
   "execution_count": 6
  },
  {
   "metadata": {},
   "cell_type": "markdown",
   "source": [
    "**节点轴选择**\n",
    "\n",
    "XPath 提供了很多节点轴选择方法，包括获取子元素、兄弟元素、父元素、祖先元素等，示例如下："
   ],
   "id": "cb874b459ff120ca"
  },
  {
   "metadata": {
    "ExecuteTime": {
     "end_time": "2024-07-21T03:08:44.959465Z",
     "start_time": "2024-07-21T03:08:44.938743Z"
    }
   },
   "cell_type": "code",
   "source": [
    "from lxml import etree\n",
    "\n",
    "text = '''\n",
    "<div>\n",
    "    <ul>\n",
    "         <li class=\"item-0\"><a href=\"link1.html\"><span>first item</span></a></li>\n",
    "         <li class=\"item-1\"><a href=\"link2.html\">second item</a></li>\n",
    "         <li class=\"item-inactive\"><a href=\"link3.html\">third item</a></li>\n",
    "         <li class=\"item-1\"><a href=\"link4.html\">fourth item</a></li>\n",
    "         <li class=\"item-0\"><a href=\"link5.html\">fifth item</a>\n",
    "     </ul>\n",
    " </div>\n",
    "'''\n",
    "html = etree.HTML(text)\n",
    "result = html.xpath('//li[1]/ancestor::*')\n",
    "print(result)\n",
    "result = html.xpath('//li[1]/ancestor::div')\n",
    "print(result)\n",
    "result = html.xpath('//li[1]/attribute::*')\n",
    "print(result)\n",
    "result = html.xpath('//li[1]/child::a[@href=\"link1.html\"]')\n",
    "print(result)\n",
    "result = html.xpath('//li[1]/descendant::span')\n",
    "print(result)\n",
    "result = html.xpath('//li[1]/following::*[2]')\n",
    "print(result)\n",
    "result = html.xpath('//li[1]/following-sibling::*')\n",
    "print(result)"
   ],
   "id": "8b59dcd5da62faca",
   "outputs": [
    {
     "name": "stdout",
     "output_type": "stream",
     "text": [
      "[<Element html at 0x15198c30280>, <Element body at 0x15198c2b2c0>, <Element div at 0x15198c30200>, <Element ul at 0x15198c30540>]\n",
      "[<Element div at 0x15198c30200>]\n",
      "['item-0']\n",
      "[<Element a at 0x15198c306c0>]\n",
      "[<Element span at 0x15198c30200>]\n",
      "[<Element a at 0x15198c304c0>]\n",
      "[<Element li at 0x15198c305c0>, <Element li at 0x15198c30400>, <Element li at 0x15198c30380>, <Element li at 0x15198c30680>]\n"
     ]
    }
   ],
   "execution_count": 7
  },
  {
   "metadata": {},
   "cell_type": "markdown",
   "source": "<h3>使用 Beautiful Soup</h3>",
   "id": "683413457e39e082"
  }
 ],
 "metadata": {
  "kernelspec": {
   "display_name": "Python 3",
   "language": "python",
   "name": "python3"
  },
  "language_info": {
   "codemirror_mode": {
    "name": "ipython",
    "version": 2
   },
   "file_extension": ".py",
   "mimetype": "text/x-python",
   "name": "python",
   "nbconvert_exporter": "python",
   "pygments_lexer": "ipython2",
   "version": "2.7.6"
  }
 },
 "nbformat": 4,
 "nbformat_minor": 5
}
