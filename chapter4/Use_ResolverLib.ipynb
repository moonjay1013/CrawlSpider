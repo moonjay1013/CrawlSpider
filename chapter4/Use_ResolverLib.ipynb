{
 "cells": [
  {
   "metadata": {},
   "cell_type": "markdown",
   "source": "<h2>解析库(XPath BeautifulSoup PyQuery)的使用</h2>",
   "id": "f62839817e5508b6"
  },
  {
   "metadata": {},
   "cell_type": "markdown",
   "source": [
    "提取页面信息时使用正则表达式比较烦琐，写错可能导致匹配失败（使用正则表达式提取页面信息不方便）。\n",
    "\n",
    "对于网页的节点来说，它可以定义 id、class 或其他属性。而且节点之间还有层次关系，\n",
    "\n",
    "在网页中可以通过 XPath 或 CSS 选择器来定位一个或多个节点。\n",
    "\n",
    "实现这个操作可以使用的解析库非常多，其中比较强大的库有 lxml、Beautiful Soup、pyquery 等。"
   ],
   "id": "10725b9a6d2ac1a7"
  },
  {
   "metadata": {},
   "cell_type": "markdown",
   "source": [
    "<h3>使用 XPath</h3>\n",
    "\n",
    "(XPath, XML Path Language)，即 XML 路径语言，它是一门在 XML 文档中查找信息的语言。它最初是用来搜寻 XML 文档的，但是它同样适用于 HTML 文档的搜索。\n",
    "\n",
    "\n",
    "XPath 于 1999 年 11 月 16 日成为 W3C 标准，它被设计为供 XSLT、XPointer 以及其他 XML 解析软件使用，更多的文档可以访问其官方网站：[https://www.w3.org/TR/xpath/](https://www.w3.org/TR/xpath/)"
   ],
   "id": "533f593908b3e6dc"
  },
  {
   "metadata": {},
   "cell_type": "markdown",
   "source": "",
   "id": "5712b8a05f70c7f8"
  },
  {
   "metadata": {},
   "cell_type": "markdown",
   "source": [
    "**XPath 常用规则**\n",
    "\n",
    "```\n",
    "表　达　式\t描　　述\n",
    "nodename\t选取此节点的所有子节点\n",
    "/\t从当前节点选取直接子节点\n",
    "//\t从当前节点选取子孙节点\n",
    ".\t选取当前节点\n",
    "..\t选取当前节点的父节点\n",
    "@\t选取属性\n",
    "```\n",
    "XPath 的常用匹配规则，示例：`//title[@lang='eng']`，它代表选择所有名称为 title，同时属性 lang 的值为 eng 的节点。"
   ],
   "id": "53ba8ecebc4168dc"
  },
  {
   "metadata": {},
   "cell_type": "markdown",
   "source": [
    "通过实例来感受一下使用 XPath 来对网页进行解析的过程，相关代码如下：\n",
    "> 注意：HTML 文本中的最后一个 `li` 节点是没有闭合的，但是 etree 模块可以自动修正 HTML 文本。（并且还自动添加了 `body`、`html` 节点）\n",
    "> \n",
    "> 调用 `tostring` 方法即可输出修正后的 HTML 代码，但是结果是 `bytes` 类型。这里利用 `decode` 方法将其转成 `str` 类型"
   ],
   "id": "88792faedcdb0e9d"
  },
  {
   "metadata": {
    "ExecuteTime": {
     "end_time": "2024-07-21T02:41:40.770499Z",
     "start_time": "2024-07-21T02:41:40.634153Z"
    }
   },
   "cell_type": "code",
   "source": [
    "from lxml import etree\n",
    "text = '''\n",
    "<div>\n",
    "    <ul>\n",
    "         <li class=\"item-0\"><a href=\"link1.html\">first item</a></li>\n",
    "         <li class=\"item-1\"><a href=\"link2.html\">second item</a></li>\n",
    "         <li class=\"item-inactive\"><a href=\"link3.html\">third item</a></li>\n",
    "         <li class=\"item-1\"><a href=\"link4.html\">fourth item</a></li>\n",
    "         <li class=\"item-0\"><a href=\"link5.html\">fifth item</a>\n",
    "     </ul>\n",
    " </div>\n",
    "'''\n",
    "html = etree.HTML(text)\n",
    "result = etree.tostring(html)\n",
    "print(result.decode('utf-8'))"
   ],
   "id": "f3bb2ba4ac91b735",
   "outputs": [
    {
     "name": "stdout",
     "output_type": "stream",
     "text": [
      "<html><body><div>\n",
      "    <ul>\n",
      "         <li class=\"item-0\"><a href=\"link1.html\">first item</a></li>\n",
      "         <li class=\"item-1\"><a href=\"link2.html\">second item</a></li>\n",
      "         <li class=\"item-inactive\"><a href=\"link3.html\">third item</a></li>\n",
      "         <li class=\"item-1\"><a href=\"link4.html\">fourth item</a></li>\n",
      "         <li class=\"item-0\"><a href=\"link5.html\">fifth item</a>\n",
      "     </li></ul>\n",
      " </div>\n",
      "</body></html>\n"
     ]
    }
   ],
   "execution_count": 1
  },
  {
   "metadata": {},
   "cell_type": "markdown",
   "source": [
    "另外，也可以直接读取文本文件进行解析，示例如下：\n",
    "```python\n",
    "from lxml import etree\n",
    "\n",
    "html = etree.parse('./test.html', etree.HTMLParser())\n",
    "result = etree.tostring(html)\n",
    "print(result.decode('utf-8'))\n",
    "```\n",
    "> 会多出一个 `DOCTYPE` 的声明"
   ],
   "id": "dd99b2bd88f7d675"
  },
  {
   "metadata": {},
   "cell_type": "markdown",
   "source": [
    "**所有节点**\n",
    "\n",
    "一般会用 `//` 开头的 XPath 规则来选取所有符合要求的节点。这里以前面的 HTML 文本为例，如果要选取所有节点，可以这样实现：\n",
    "```python\n",
    "from lxml import etree\n",
    "html = etree.parse('./test.html', etree.HTMLParser())\n",
    "result = html.xpath('//*')\n",
    "print(result)\n",
    "```\n",
    "\n",
    "使用 `*` 代表匹配所有节点，也就是整个 HTML 文本中的所有节点都会被获取。\n",
    "\n",
    "返回形式是一个列表，每个元素是 Element 类型，其后跟了节点的名称，如 `html、body、div、ul、li、a` 等，所有节点都包含在列表中了。\n",
    "\n",
    "想获取所有 li 节点：`result = html.xpath('//li')`"
   ],
   "id": "6b47927fa4eeacb4"
  },
  {
   "metadata": {},
   "cell_type": "markdown",
   "source": [
    "**子节点**\n",
    "\n",
    "通过 `/` 或 `//` 即可查找元素的子节点或子孙节点。\n",
    "\n",
    "假如想选择 li 节点的所有直接 a 子节点，可以这样实现："
   ],
   "id": "6fcdcc7fc31f6ae3"
  },
  {
   "metadata": {
    "ExecuteTime": {
     "end_time": "2024-07-21T02:48:36.511519Z",
     "start_time": "2024-07-21T02:48:36.507527Z"
    }
   },
   "cell_type": "code",
   "source": [
    "from lxml import etree\n",
    "\n",
    "text = '''\n",
    "<div>\n",
    "    <ul>\n",
    "         <li class=\"item-0\"><a href=\"link1.html\">first item</a></li>\n",
    "         <li class=\"item-1\"><a href=\"link2.html\">second item</a></li>\n",
    "         <li class=\"item-inactive\"><a href=\"link3.html\">third item</a></li>\n",
    "         <li class=\"item-1\"><a href=\"link4.html\">fourth item</a></li>\n",
    "         <li class=\"item-0\"><a href=\"link5.html\">fifth item</a>\n",
    "     </ul>\n",
    " </div>\n",
    "'''\n",
    "html = etree.HTML(text)\n",
    "result = html.xpath('//li/a')  # 等价于 `//li//a`\n",
    "print(result)"
   ],
   "id": "5615f5f26865d4a2",
   "outputs": [
    {
     "name": "stdout",
     "output_type": "stream",
     "text": [
      "[<Element a at 0x1519a62c1c0>, <Element a at 0x1519a62c280>, <Element a at 0x1519a62c440>, <Element a at 0x1519a62c900>, <Element a at 0x1519b844600>]\n"
     ]
    }
   ],
   "execution_count": 2
  },
  {
   "metadata": {},
   "cell_type": "markdown",
   "source": [
    "**父节点**\n",
    "\n",
    "假如知道了子节点，可以用`..`来查找父节点呢。\n",
    "\n",
    "比如，现在首先选中 `href` 属性为 `link4.html` 的 `a` 节点，然后再获取其父节点，然后再获取其 `class` 属性，\n",
    "\n",
    "相关代码：`result = html.xpath('//a[@href=\"link4.html\"]/../@class')`\n",
    "\n",
    "也可以通过 `parent::` 来获取父节点，代码：`result = html.xpath('//a[@href=\"link4.html\"]/parent::*/@class')`"
   ],
   "id": "ad6e49e025d0fd6d"
  },
  {
   "metadata": {},
   "cell_type": "markdown",
   "source": [
    "**文本获取**\n",
    "\n",
    "用 XPath 中的 `text` 方法获取节点中的文本，尝试获取前面 li 节点中的文本，相关代码：\n",
    "`result = html.xpath('//li[@class=\"item-0\"]/text()')` 或者 `result = html.xpath('//li[@class=\"item-0\"]//text()')`"
   ],
   "id": "cf79b85f65bb4b6"
  },
  {
   "metadata": {},
   "cell_type": "markdown",
   "source": [
    "**属性获取**\n",
    "\n",
    "节点属性用 `@`符号就可以获取。例如，想获取所有 li 节点下所有 a 节点的 href 属性，代码：`result = html.xpath('//li/a/@href')`"
   ],
   "id": "6d7e368d66bb8446"
  },
  {
   "metadata": {},
   "cell_type": "markdown",
   "source": [
    "**属性多值匹配**\n",
    "\n",
    "有时候，某些节点的某个属性可能有多个值，例如：\n",
    "> 这里 HTML 文本中 li 节点的 class 属性有两个值 li 和 li-first，此时如果还想用之前的属性匹配获取，就无法匹配了，此时的运行结果 —— `[]`"
   ],
   "id": "265279a23a0c4260"
  },
  {
   "metadata": {
    "ExecuteTime": {
     "end_time": "2024-07-21T03:04:27.089205Z",
     "start_time": "2024-07-21T03:04:27.085204Z"
    }
   },
   "cell_type": "code",
   "source": [
    "from lxml import etree  \n",
    "text = '''  \n",
    "<li class=\"li li-first\"><a href=\"link.html\">first item</a></li> \n",
    "'''  \n",
    "html = etree.HTML(text)  \n",
    "result = html.xpath('//li[@class=\"li\"]/a/text()')  \n",
    "print(result)"
   ],
   "id": "6f12d07ddb17fe06",
   "outputs": [
    {
     "name": "stdout",
     "output_type": "stream",
     "text": [
      "[]\n"
     ]
    }
   ],
   "execution_count": 3
  },
  {
   "metadata": {},
   "cell_type": "markdown",
   "source": "这时就需要用 `contains` 方法了，代码可以改写如下：",
   "id": "bb4f69378b70d521"
  },
  {
   "metadata": {
    "ExecuteTime": {
     "end_time": "2024-07-21T03:05:38.235744Z",
     "start_time": "2024-07-21T03:05:38.228743Z"
    }
   },
   "cell_type": "code",
   "source": [
    "from lxml import etree  \n",
    "text = '''  \n",
    "<li class=\"li li-first\"><a href=\"link.html\">first item</a></li>  \n",
    "'''  \n",
    "html = etree.HTML(text)  \n",
    "result = html.xpath('//li[contains(@class, \"li\")]/a/text()')  \n",
    "print(result)"
   ],
   "id": "af4f01d094378c4e",
   "outputs": [
    {
     "name": "stdout",
     "output_type": "stream",
     "text": [
      "['first item']\n"
     ]
    }
   ],
   "execution_count": 4
  },
  {
   "metadata": {},
   "cell_type": "markdown",
   "source": [
    "**多属性匹配**\n",
    "\n",
    "根据多个属性确定一个节点，需要同时匹配多个属性。此时可以使用运算符 `and` 来连接，示例如下："
   ],
   "id": "ecefad9e78f4e7ac"
  },
  {
   "metadata": {
    "ExecuteTime": {
     "end_time": "2024-07-21T03:06:48.444365Z",
     "start_time": "2024-07-21T03:06:48.432362Z"
    }
   },
   "cell_type": "code",
   "source": [
    "from lxml import etree  \n",
    "text = '''  \n",
    "<li class=\"li li-first\" name=\"item\"><a href=\"link.html\">first item</a></li>\n",
    "'''  \n",
    "html = etree.HTML(text)  \n",
    "result = html.xpath('//li[contains(@class, \"li\") and @name=\"item\"]/a/text()')  \n",
    "print(result)"
   ],
   "id": "9e8d59a91faea3d7",
   "outputs": [
    {
     "name": "stdout",
     "output_type": "stream",
     "text": [
      "['first item']\n"
     ]
    }
   ],
   "execution_count": 5
  },
  {
   "metadata": {},
   "cell_type": "markdown",
   "source": [
    "运算符及其介绍\n",
    "```\n",
    "运算符\t描　　述\t实　　例\t返　回　值\n",
    "or\t或\tage=19 or age=20\t如果 age 是 19，则返回 true。如果 age 是 21，则返回 false\n",
    "and\t与\tage>19 and age<21\t如果 age 是 20，则返回 true。如果 age 是 18，则返回 false\n",
    "mod\t计算除法的余数\t5 mod 2\t1\n",
    "计算两个节点集\t//book\n",
    "+\t加法\t6 + 4\t10\n",
    "-\t减法\t6 - 4\t2\n",
    "*\t乘法\t6 * 4\t24\n",
    "div\t除法\t8 div 4\t2\n",
    "=\t等于\tage=19\t如果 age 是 19，则返回 true。如果 age 是 20，则返回 false\n",
    "!=\t不等于\tage!=19\t如果 age 是 18，则返回 true。如果 age 是 19，则返回 false\n",
    "<\t小于\tage<19\t如果 age 是 18，则返回 true。如果 age 是 19，则返回 false\n",
    "<=\t小于或等于\tage<=19\t如果 age 是 19，则返回 true。如果 age 是 20，则返回 false\n",
    ">\t大于\tage>19\t如果 age 是 20，则返回 true。如果 age 是 19，则返回 false\n",
    ">=\t大于或等于\tage>=19\t如果 age 是 19，则返回 true。如果 age 是 18，则返回 false\n",
    "```"
   ],
   "id": "aad7fe7a49808e37"
  },
  {
   "metadata": {},
   "cell_type": "markdown",
   "source": [
    "**按序选择**\n",
    "\n",
    "在选择的时候某些属性可能同时匹配了多个节点，但是只想要其中的某个节点，如第二个节点或者最后一个节点，可以利用**中括号传入索引的方法获取特定次序的节点**，示例如下："
   ],
   "id": "6df3dc0a119be0f6"
  },
  {
   "metadata": {
    "ExecuteTime": {
     "end_time": "2024-07-21T03:08:15.777117Z",
     "start_time": "2024-07-21T03:08:15.767117Z"
    }
   },
   "cell_type": "code",
   "source": [
    "from lxml import etree\n",
    "\n",
    "text = '''\n",
    "<div>\n",
    "    <ul>\n",
    "         <li class=\"item-0\"><a href=\"link1.html\">first item</a></li>\n",
    "         <li class=\"item-1\"><a href=\"link2.html\">second item</a></li>\n",
    "         <li class=\"item-inactive\"><a href=\"link3.html\">third item</a></li>\n",
    "         <li class=\"item-1\"><a href=\"link4.html\">fourth item</a></li>\n",
    "         <li class=\"item-0\"><a href=\"link5.html\">fifth item</a>\n",
    "     </ul>\n",
    " </div>\n",
    "'''\n",
    "html = etree.HTML(text)\n",
    "result = html.xpath('//li[1]/a/text()')\n",
    "print(result)\n",
    "result = html.xpath('//li[last()]/a/text()')\n",
    "print(result)\n",
    "result = html.xpath('//li[position()<3]/a/text()')\n",
    "print(result)\n",
    "result = html.xpath('//li[last()-2]/a/text()')\n",
    "print(result)"
   ],
   "id": "a04f573abeda542b",
   "outputs": [
    {
     "name": "stdout",
     "output_type": "stream",
     "text": [
      "['first item']\n",
      "['fifth item']\n",
      "['first item', 'second item']\n",
      "['third item']\n"
     ]
    }
   ],
   "execution_count": 6
  },
  {
   "metadata": {},
   "cell_type": "markdown",
   "source": [
    "**节点轴选择**\n",
    "\n",
    "XPath 提供了很多节点轴选择方法，包括获取子元素、兄弟元素、父元素、祖先元素等，示例如下："
   ],
   "id": "cb874b459ff120ca"
  },
  {
   "metadata": {
    "ExecuteTime": {
     "end_time": "2024-07-21T03:08:44.959465Z",
     "start_time": "2024-07-21T03:08:44.938743Z"
    }
   },
   "cell_type": "code",
   "source": [
    "from lxml import etree\n",
    "\n",
    "text = '''\n",
    "<div>\n",
    "    <ul>\n",
    "         <li class=\"item-0\"><a href=\"link1.html\"><span>first item</span></a></li>\n",
    "         <li class=\"item-1\"><a href=\"link2.html\">second item</a></li>\n",
    "         <li class=\"item-inactive\"><a href=\"link3.html\">third item</a></li>\n",
    "         <li class=\"item-1\"><a href=\"link4.html\">fourth item</a></li>\n",
    "         <li class=\"item-0\"><a href=\"link5.html\">fifth item</a>\n",
    "     </ul>\n",
    " </div>\n",
    "'''\n",
    "html = etree.HTML(text)\n",
    "result = html.xpath('//li[1]/ancestor::*')\n",
    "print(result)\n",
    "result = html.xpath('//li[1]/ancestor::div')\n",
    "print(result)\n",
    "result = html.xpath('//li[1]/attribute::*')\n",
    "print(result)\n",
    "result = html.xpath('//li[1]/child::a[@href=\"link1.html\"]')\n",
    "print(result)\n",
    "result = html.xpath('//li[1]/descendant::span')\n",
    "print(result)\n",
    "result = html.xpath('//li[1]/following::*[2]')\n",
    "print(result)\n",
    "result = html.xpath('//li[1]/following-sibling::*')\n",
    "print(result)"
   ],
   "id": "8b59dcd5da62faca",
   "outputs": [
    {
     "name": "stdout",
     "output_type": "stream",
     "text": [
      "[<Element html at 0x15198c30280>, <Element body at 0x15198c2b2c0>, <Element div at 0x15198c30200>, <Element ul at 0x15198c30540>]\n",
      "[<Element div at 0x15198c30200>]\n",
      "['item-0']\n",
      "[<Element a at 0x15198c306c0>]\n",
      "[<Element span at 0x15198c30200>]\n",
      "[<Element a at 0x15198c304c0>]\n",
      "[<Element li at 0x15198c305c0>, <Element li at 0x15198c30400>, <Element li at 0x15198c30380>, <Element li at 0x15198c30680>]\n"
     ]
    }
   ],
   "execution_count": 7
  },
  {
   "metadata": {},
   "cell_type": "markdown",
   "source": "<h3>使用 Beautiful Soup</h3>",
   "id": "683413457e39e082"
  },
  {
   "metadata": {},
   "cell_type": "markdown",
   "source": [
    "BeautifulSoup 是 Python 的一个 HTML 或 XML 的解析库，可以用它来方便地从网页中提取数据，官方的解释如下：\n",
    "> BeautifulSoup 提供一些简单的、Python 式的函数用来处理导航、搜索、修改分析树等功能。它是一个工具箱，通过解析文档为用户提供需要抓取的数据，因为简单，所以不需要多少代码就可以写出一个完整的应用程序。 BeautifulSoup 自动将输入文档转换为 Unicode 编码，输出文档转换为 utf-8 编码。你不需要考虑编码方式，除非文档没有指定一个编码方式，这时你仅仅需要说明一下原始编码方式就可以了。 BeautifulSoup 已成为和 lxml、html5lib 一样出色的 Python 解释器，为用户灵活地提供不同的解析策略或强劲的速度。\n",
    "\n",
    "> 请确保已经正确安装好了 `Beautiful Soup` 和 `lxml`"
   ],
   "id": "9d2883774afd43c1"
  },
  {
   "metadata": {},
   "cell_type": "markdown",
   "source": [
    "**解析器**\n",
    "\n",
    "Beautiful Soup 在解析时实际上依赖解析器，它除了支持 Python 标准库中的 HTML 解析器外，还支持一些第三方解析器（比如 lxml）。\n",
    "\n",
    "```\n",
    "解析器\t               使用方法\t                               优势                               \t          劣势\n",
    "Python 标准库\tBeautifulSoup(markup, \"html.parser\")\tPython 的内置标准库、执行速度适中 、文档容错能力强\t        Python 2.7.3 or 3.2.2) 前的版本中文容错能力差\n",
    "LXML HTML 解析器\tBeautifulSoup(markup, \"lxml\")\t        速度快、文档容错能力强\t                                需要安装 C 语言库\n",
    "LXML XML 解析器\tBeautifulSoup(markup, \"xml\")\t        速度快、唯一支持 XML 的解析器\t                        需要安装 C 语言库\n",
    "html5lib\t    BeautifulSoup(markup, \"html5lib\")\t    最好的容错性、以浏览器的方式解析文档、生成 HTML5 格式的文档\t速度慢、不依赖外部扩展\n",
    "```"
   ],
   "id": "9d6e1024ec1abab9"
  },
  {
   "metadata": {
    "ExecuteTime": {
     "end_time": "2024-07-21T08:14:04.905330Z",
     "start_time": "2024-07-21T08:14:04.630449Z"
    }
   },
   "cell_type": "code",
   "source": [
    "from bs4 import BeautifulSoup\n",
    "soup = BeautifulSoup('<p>Hello</p>', 'lxml')\n",
    "print(soup.p.string)"
   ],
   "id": "6bbde6e125ecf5cf",
   "outputs": [
    {
     "name": "stdout",
     "output_type": "stream",
     "text": [
      "Hello\n"
     ]
    }
   ],
   "execution_count": 1
  },
  {
   "metadata": {},
   "cell_type": "markdown",
   "source": "**基本使用**",
   "id": "b9a1d158fcc4938b"
  },
  {
   "metadata": {
    "ExecuteTime": {
     "end_time": "2024-07-21T08:15:24.589828Z",
     "start_time": "2024-07-21T08:15:24.570824Z"
    }
   },
   "cell_type": "code",
   "source": [
    "html = \"\"\"\n",
    "<html><head><title>The Dormouse's story</title></head>\n",
    "<body>\n",
    "<p class=\"title\" name=\"dromouse\"><b>The Dormouse's story</b></p>\n",
    "<p class=\"story\">Once upon a time there were three little sisters; and their names were\n",
    "<a href=\"http://example.com/elsie\" class=\"sister\" id=\"link1\"><!-- Elsie --></a>,\n",
    "<a href=\"http://example.com/lacie\" class=\"sister\" id=\"link2\">Lacie</a> and\n",
    "<a href=\"http://example.com/tillie\" class=\"sister\" id=\"link3\">Tillie</a>;\n",
    "and they lived at the bottom of a well.</p>\n",
    "<p class=\"story\">...</p>\n",
    "\"\"\"\n",
    "from bs4 import BeautifulSoup\n",
    "soup = BeautifulSoup(html, 'lxml')\n",
    "# 把要解析的字符串以标准的缩进格式输出。这里需要注意的是，输出结果里面包含 body 和 html 节点\n",
    "# 对于不标准的 HTML 字符串, BeautifulSoup 可以自动更正格式。\n",
    "print(soup.prettify())\n",
    "print(soup.title.string)"
   ],
   "id": "e551ea54e84cc44a",
   "outputs": [
    {
     "name": "stdout",
     "output_type": "stream",
     "text": [
      "<html>\n",
      " <head>\n",
      "  <title>\n",
      "   The Dormouse's story\n",
      "  </title>\n",
      " </head>\n",
      " <body>\n",
      "  <p class=\"title\" name=\"dromouse\">\n",
      "   <b>\n",
      "    The Dormouse's story\n",
      "   </b>\n",
      "  </p>\n",
      "  <p class=\"story\">\n",
      "   Once upon a time there were three little sisters; and their names were\n",
      "   <a class=\"sister\" href=\"http://example.com/elsie\" id=\"link1\">\n",
      "    <!-- Elsie -->\n",
      "   </a>\n",
      "   ,\n",
      "   <a class=\"sister\" href=\"http://example.com/lacie\" id=\"link2\">\n",
      "    Lacie\n",
      "   </a>\n",
      "   and\n",
      "   <a class=\"sister\" href=\"http://example.com/tillie\" id=\"link3\">\n",
      "    Tillie\n",
      "   </a>\n",
      "   ;\n",
      "and they lived at the bottom of a well.\n",
      "  </p>\n",
      "  <p class=\"story\">\n",
      "   ...\n",
      "  </p>\n",
      " </body>\n",
      "</html>\n",
      "The Dormouse's story\n"
     ]
    }
   ],
   "execution_count": 2
  },
  {
   "metadata": {},
   "cell_type": "markdown",
   "source": [
    "**节点选择器**\n",
    "\n",
    "直接调用节点的名称就可以选择节点元素，再调用 string 属性就可以得到节点内的文本了，这种选择方式速度非常快。如果单个节点结构层次非常清晰，可以选用这种方式来解析。"
   ],
   "id": "543bd47d548a3d9"
  },
  {
   "metadata": {
    "ExecuteTime": {
     "end_time": "2024-07-21T08:19:38.528905Z",
     "start_time": "2024-07-21T08:19:38.521903Z"
    }
   },
   "cell_type": "code",
   "source": [
    "html = \"\"\"\n",
    "<html><head><title>The Dormouse's story</title></head>\n",
    "<body>\n",
    "<p class=\"title\" name=\"dromouse\"><b>The Dormouse's story</b></p>\n",
    "<p class=\"story\">Once upon a time there were three little sisters; and their names were\n",
    "<a href=\"http://example.com/elsie\" class=\"sister\" id=\"link1\"><!-- Elsie --></a>,\n",
    "<a href=\"http://example.com/lacie\" class=\"sister\" id=\"link2\">Lacie</a> and\n",
    "<a href=\"http://example.com/tillie\" class=\"sister\" id=\"link3\">Tillie</a>;\n",
    "and they lived at the bottom of a well.</p>\n",
    "<p class=\"story\">...</p>\n",
    "\"\"\"\n",
    "from bs4 import BeautifulSoup\n",
    "soup = BeautifulSoup(html, 'lxml')\n",
    "print(soup.title)\n",
    "print(type(soup.title))\n",
    "print(soup.title.string)\n",
    "print(soup.head)\n",
    "print(soup.p)\n",
    "# 利用 name 属性获取节点的名称\n",
    "print(soup.title.name)\n",
    "# 每个节点可能有多个属性，比如 id 和 class 等，选择这个节点元素后，可以调用 attrs 获取所有属性：\n",
    "print(soup.p.attrs)\n",
    "print(soup.p.attrs['name'])\n",
    "print(soup.p['name'])  # 与上一行代码等价"
   ],
   "id": "49938c0e166b804f",
   "outputs": [
    {
     "name": "stdout",
     "output_type": "stream",
     "text": [
      "<title>The Dormouse's story</title>\n",
      "<class 'bs4.element.Tag'>\n",
      "The Dormouse's story\n",
      "<head><title>The Dormouse's story</title></head>\n",
      "<p class=\"title\" name=\"dromouse\"><b>The Dormouse's story</b></p>\n",
      "title\n",
      "{'class': ['title'], 'name': 'dromouse'}\n",
      "dromouse\n",
      "dromouse\n"
     ]
    }
   ],
   "execution_count": 6
  },
  {
   "metadata": {},
   "cell_type": "markdown",
   "source": [
    "**嵌套选择**\n",
    "\n",
    "返回结果是 `bs4.element.Tag` 类型的同样可以继续调用节点进行下一步的选择。\n",
    "\n",
    "比如，获取了 head 节点元素，可以继续调用 head 来选取其内部的 head 节点元素："
   ],
   "id": "6fa9d82e144d07c0"
  },
  {
   "metadata": {
    "ExecuteTime": {
     "end_time": "2024-07-21T08:20:48.660021Z",
     "start_time": "2024-07-21T08:20:48.645016Z"
    }
   },
   "cell_type": "code",
   "source": [
    "html = \"\"\"\n",
    "<html><head><title>The Dormouse's story</title></head>\n",
    "<body>\n",
    "\"\"\"\n",
    "from bs4 import BeautifulSoup\n",
    "soup = BeautifulSoup(html, 'lxml')\n",
    "print(soup.head.title)\n",
    "print(type(soup.head.title))\n",
    "print(soup.head.title.string)"
   ],
   "id": "8989eb896e1a7f16",
   "outputs": [
    {
     "name": "stdout",
     "output_type": "stream",
     "text": [
      "<title>The Dormouse's story</title>\n",
      "<class 'bs4.element.Tag'>\n",
      "The Dormouse's story\n"
     ]
    }
   ],
   "execution_count": 7
  },
  {
   "metadata": {},
   "cell_type": "markdown",
   "source": [
    "**关联选择**\n",
    "\n",
    "在做选择的时候，有时候不能做到一步就选到想要的节点元素，需要先选中某一个节点元素，然后以它为基准再选择它的子节点、父节点、兄弟节点等\n",
    "\n",
    "选取节点元素之后，如果想要获取它的直接子节点，可以调用 `contents` 属性（或者调用 `children` 属性得到相应的结果），示例如下："
   ],
   "id": "b8392cfdaf109a1c"
  },
  {
   "metadata": {
    "ExecuteTime": {
     "end_time": "2024-07-21T08:24:39.759540Z",
     "start_time": "2024-07-21T08:24:39.746537Z"
    }
   },
   "cell_type": "code",
   "source": [
    "html = \"\"\"\n",
    "<html>\n",
    "    <head>\n",
    "        <title>The Dormouse's story</title>\n",
    "    </head>\n",
    "    <body>\n",
    "        <p class=\"story\">\n",
    "            Once upon a time there were three little sisters; and their names were\n",
    "            <a href=\"http://example.com/elsie\" class=\"sister\" id=\"link1\">\n",
    "                <span>Elsie</span>\n",
    "            </a>\n",
    "            <a href=\"http://example.com/lacie\" class=\"sister\" id=\"link2\">Lacie</a> \n",
    "            and\n",
    "            <a href=\"http://example.com/tillie\" class=\"sister\" id=\"link3\">Tillie</a>\n",
    "            and they lived at the bottom of a well.\n",
    "        </p>\n",
    "        <p class=\"story\">...</p>\n",
    "\"\"\"\n",
    "from bs4 import BeautifulSoup\n",
    "soup = BeautifulSoup(html, 'lxml')\n",
    "print(soup.p.contents)\n",
    "\n",
    "print(soup.p.children)\n",
    "for i, child in enumerate(soup.p.children):\n",
    "    print(i, child)"
   ],
   "id": "bcf51bd82cd19019",
   "outputs": [
    {
     "name": "stdout",
     "output_type": "stream",
     "text": [
      "['\\n            Once upon a time there were three little sisters; and their names were\\n            ', <a class=\"sister\" href=\"http://example.com/elsie\" id=\"link1\">\n",
      "<span>Elsie</span>\n",
      "</a>, '\\n', <a class=\"sister\" href=\"http://example.com/lacie\" id=\"link2\">Lacie</a>, ' \\n            and\\n            ', <a class=\"sister\" href=\"http://example.com/tillie\" id=\"link3\">Tillie</a>, '\\n            and they lived at the bottom of a well.\\n        ']\n",
      "<list_iterator object at 0x000002049468C100>\n",
      "0 \n",
      "            Once upon a time there were three little sisters; and their names were\n",
      "            \n",
      "1 <a class=\"sister\" href=\"http://example.com/elsie\" id=\"link1\">\n",
      "<span>Elsie</span>\n",
      "</a>\n",
      "2 \n",
      "\n",
      "3 <a class=\"sister\" href=\"http://example.com/lacie\" id=\"link2\">Lacie</a>\n",
      "4  \n",
      "            and\n",
      "            \n",
      "5 <a class=\"sister\" href=\"http://example.com/tillie\" id=\"link3\">Tillie</a>\n",
      "6 \n",
      "            and they lived at the bottom of a well.\n",
      "        \n"
     ]
    }
   ],
   "execution_count": 9
  },
  {
   "metadata": {},
   "cell_type": "markdown",
   "source": "如果要得到所有的子孙节点的话，可以调用 `descendants` 属性（递归查询所有子节点，得到所有的子孙节点）：",
   "id": "3761378e366fe352"
  },
  {
   "metadata": {
    "ExecuteTime": {
     "end_time": "2024-07-21T08:25:16.287867Z",
     "start_time": "2024-07-21T08:25:16.279865Z"
    }
   },
   "cell_type": "code",
   "source": [
    "from bs4 import BeautifulSoup\n",
    "soup = BeautifulSoup(html, 'lxml')\n",
    "print(soup.p.descendants)\n",
    "for i, child in enumerate(soup.p.descendants):\n",
    "    print(i, child)"
   ],
   "id": "cfec07c27e3b7d9",
   "outputs": [
    {
     "name": "stdout",
     "output_type": "stream",
     "text": [
      "<generator object Tag.descendants at 0x000002049469FF20>\n",
      "0 \n",
      "            Once upon a time there were three little sisters; and their names were\n",
      "            \n",
      "1 <a class=\"sister\" href=\"http://example.com/elsie\" id=\"link1\">\n",
      "<span>Elsie</span>\n",
      "</a>\n",
      "2 \n",
      "\n",
      "3 <span>Elsie</span>\n",
      "4 Elsie\n",
      "5 \n",
      "\n",
      "6 \n",
      "\n",
      "7 <a class=\"sister\" href=\"http://example.com/lacie\" id=\"link2\">Lacie</a>\n",
      "8 Lacie\n",
      "9  \n",
      "            and\n",
      "            \n",
      "10 <a class=\"sister\" href=\"http://example.com/tillie\" id=\"link3\">Tillie</a>\n",
      "11 Tillie\n",
      "12 \n",
      "            and they lived at the bottom of a well.\n",
      "        \n"
     ]
    }
   ],
   "execution_count": 10
  },
  {
   "metadata": {},
   "cell_type": "markdown",
   "source": [
    "**父节点和祖先节点**\n",
    "\n",
    "如果要获取某个节点元素的父节点，可以调用 `parent` 属性（获取所有的祖先节点，可以调用 `parents` 属性）："
   ],
   "id": "e0efe7241afce937"
  },
  {
   "metadata": {
    "ExecuteTime": {
     "end_time": "2024-07-21T08:27:42.393832Z",
     "start_time": "2024-07-21T08:27:42.384830Z"
    }
   },
   "cell_type": "code",
   "source": [
    "html = \"\"\"\n",
    "<html>\n",
    "    <head>\n",
    "        <title>The Dormouse's story</title>\n",
    "    </head>\n",
    "    <body>\n",
    "        <p class=\"story\">\n",
    "            Once upon a time there were three little sisters; and their names were\n",
    "            <a href=\"http://example.com/elsie\" class=\"sister\" id=\"link1\">\n",
    "                <span>Elsie</span>\n",
    "            </a>\n",
    "        </p>\n",
    "        <p class=\"story\">...</p>\n",
    "\"\"\"\n",
    "from bs4 import BeautifulSoup\n",
    "soup = BeautifulSoup(html, 'lxml')\n",
    "print(soup.a.parent)\n",
    "\n",
    "print(type(soup.a.parents))  # generator\n",
    "print(list(enumerate(soup.a.parents)))"
   ],
   "id": "61266b1b6681cbdd",
   "outputs": [
    {
     "name": "stdout",
     "output_type": "stream",
     "text": [
      "<p class=\"story\">\n",
      "            Once upon a time there were three little sisters; and their names were\n",
      "            <a class=\"sister\" href=\"http://example.com/elsie\" id=\"link1\">\n",
      "<span>Elsie</span>\n",
      "</a>\n",
      "</p>\n",
      "<class 'generator'>\n",
      "[(0, <p class=\"story\">\n",
      "            Once upon a time there were three little sisters; and their names were\n",
      "            <a class=\"sister\" href=\"http://example.com/elsie\" id=\"link1\">\n",
      "<span>Elsie</span>\n",
      "</a>\n",
      "</p>), (1, <body>\n",
      "<p class=\"story\">\n",
      "            Once upon a time there were three little sisters; and their names were\n",
      "            <a class=\"sister\" href=\"http://example.com/elsie\" id=\"link1\">\n",
      "<span>Elsie</span>\n",
      "</a>\n",
      "</p>\n",
      "<p class=\"story\">...</p>\n",
      "</body>), (2, <html>\n",
      "<head>\n",
      "<title>The Dormouse's story</title>\n",
      "</head>\n",
      "<body>\n",
      "<p class=\"story\">\n",
      "            Once upon a time there were three little sisters; and their names were\n",
      "            <a class=\"sister\" href=\"http://example.com/elsie\" id=\"link1\">\n",
      "<span>Elsie</span>\n",
      "</a>\n",
      "</p>\n",
      "<p class=\"story\">...</p>\n",
      "</body></html>), (3, <html>\n",
      "<head>\n",
      "<title>The Dormouse's story</title>\n",
      "</head>\n",
      "<body>\n",
      "<p class=\"story\">\n",
      "            Once upon a time there were three little sisters; and their names were\n",
      "            <a class=\"sister\" href=\"http://example.com/elsie\" id=\"link1\">\n",
      "<span>Elsie</span>\n",
      "</a>\n",
      "</p>\n",
      "<p class=\"story\">...</p>\n",
      "</body></html>)]\n"
     ]
    }
   ],
   "execution_count": 13
  },
  {
   "metadata": {},
   "cell_type": "markdown",
   "source": "**兄弟节点**",
   "id": "79be1075f592aabb"
  },
  {
   "metadata": {
    "ExecuteTime": {
     "end_time": "2024-07-21T08:28:44.384356Z",
     "start_time": "2024-07-21T08:28:44.374262Z"
    }
   },
   "cell_type": "code",
   "source": [
    "html = \"\"\"\n",
    "<html>\n",
    "    <body>\n",
    "        <p class=\"story\">\n",
    "            Once upon a time there were three little sisters; and their names were\n",
    "            <a href=\"http://example.com/elsie\" class=\"sister\" id=\"link1\">\n",
    "                <span>Elsie</span>\n",
    "            </a>\n",
    "            Hello\n",
    "            <a href=\"http://example.com/lacie\" class=\"sister\" id=\"link2\">Lacie</a> \n",
    "            and\n",
    "            <a href=\"http://example.com/tillie\" class=\"sister\" id=\"link3\">Tillie</a>\n",
    "            and they lived at the bottom of a well.\n",
    "        </p>\n",
    "\"\"\"\n",
    "from bs4 import BeautifulSoup\n",
    "soup = BeautifulSoup(html, 'lxml')\n",
    "print('Next Sibling', soup.a.next_sibling)\n",
    "print('Prev Sibling', soup.a.previous_sibling)\n",
    "\n",
    "print('Next Siblings', list(enumerate(soup.a.next_siblings)))\n",
    "print('Prev Siblings', list(enumerate(soup.a.previous_siblings)))"
   ],
   "id": "8300462c3305a1ff",
   "outputs": [
    {
     "name": "stdout",
     "output_type": "stream",
     "text": [
      "Next Sibling \n",
      "            Hello\n",
      "            \n",
      "Prev Sibling \n",
      "            Once upon a time there were three little sisters; and their names were\n",
      "            \n",
      "Next Siblings [(0, '\\n            Hello\\n            '), (1, <a class=\"sister\" href=\"http://example.com/lacie\" id=\"link2\">Lacie</a>), (2, ' \\n            and\\n            '), (3, <a class=\"sister\" href=\"http://example.com/tillie\" id=\"link3\">Tillie</a>), (4, '\\n            and they lived at the bottom of a well.\\n        ')]\n",
      "Prev Siblings [(0, '\\n            Once upon a time there were three little sisters; and their names were\\n            ')]\n"
     ]
    }
   ],
   "execution_count": 14
  },
  {
   "metadata": {},
   "cell_type": "markdown",
   "source": [
    "**方法选择器**\n",
    "\n",
    "前面所讲的选择方法都是通过属性来选择的，这种方法非常快，但是如果进行比较复杂的选择的话，它就比较烦琐了。\n",
    "\n",
    "Beautiful Soup 还提供了一些查询方法，比如 `find_all` 和 `find` 等\n",
    "\n",
    "API：`find_all(name , attrs , recursive , text , **kwargs)`"
   ],
   "id": "89dc163cbcc37721"
  },
  {
   "metadata": {
    "ExecuteTime": {
     "end_time": "2024-07-21T08:36:13.528869Z",
     "start_time": "2024-07-21T08:36:13.517867Z"
    }
   },
   "cell_type": "code",
   "source": [
    "html='''\n",
    "<div class=\"panel\">\n",
    "    <div class=\"panel-heading\">\n",
    "        <h4>Hello</h4>\n",
    "    </div>\n",
    "    <div class=\"panel-body\">\n",
    "        <ul class=\"list\" id=\"list-1\">\n",
    "            <li class=\"element\">Foo</li>\n",
    "            <li class=\"element\">Bar</li>\n",
    "            <li class=\"element\">Jay</li>\n",
    "        </ul>\n",
    "        <ul class=\"list list-small\" id=\"list-2\">\n",
    "            <li class=\"element\">Foo</li>\n",
    "            <li class=\"element\">Bar</li>\n",
    "        </ul>\n",
    "    </div>\n",
    "</div>\n",
    "'''\n",
    "from bs4 import BeautifulSoup\n",
    "soup = BeautifulSoup(html, 'lxml')\n",
    "# 根据节点名来查询元素，使用`name`参数\n",
    "print(soup.find_all(name='ul'))\n",
    "print(type(soup.find_all(name='ul')[0]))\n",
    "\n",
    "for ul in soup.find_all(name='ul'):\n",
    "    print(ul.find_all(name='li'))\n",
    "    for li in ul.find_all(name='li'):\n",
    "        print(li.string)\n",
    "        \n",
    "print(\"------------------------------------\")\n",
    "# 传入一些属性来进行查询，使用`attrs`参数\n",
    "print(soup.find_all(attrs={'id': 'list-1'}))\n",
    "print(soup.find_all(attrs={'class': 'element'}))\n",
    "# 等价方式\n",
    "print(soup.find_all(id='list-1'))\n",
    "print(soup.find_all(class_='element'))"
   ],
   "id": "299a2357b0cd1da",
   "outputs": [
    {
     "name": "stdout",
     "output_type": "stream",
     "text": [
      "[<ul class=\"list\" id=\"list-1\">\n",
      "<li class=\"element\">Foo</li>\n",
      "<li class=\"element\">Bar</li>\n",
      "<li class=\"element\">Jay</li>\n",
      "</ul>, <ul class=\"list list-small\" id=\"list-2\">\n",
      "<li class=\"element\">Foo</li>\n",
      "<li class=\"element\">Bar</li>\n",
      "</ul>]\n",
      "<class 'bs4.element.Tag'>\n",
      "[<li class=\"element\">Foo</li>, <li class=\"element\">Bar</li>, <li class=\"element\">Jay</li>]\n",
      "Foo\n",
      "Bar\n",
      "Jay\n",
      "[<li class=\"element\">Foo</li>, <li class=\"element\">Bar</li>]\n",
      "Foo\n",
      "Bar\n",
      "------------------------------------\n",
      "[<ul class=\"list\" id=\"list-1\">\n",
      "<li class=\"element\">Foo</li>\n",
      "<li class=\"element\">Bar</li>\n",
      "<li class=\"element\">Jay</li>\n",
      "</ul>]\n",
      "[<li class=\"element\">Foo</li>, <li class=\"element\">Bar</li>, <li class=\"element\">Jay</li>, <li class=\"element\">Foo</li>, <li class=\"element\">Bar</li>]\n",
      "[<ul class=\"list\" id=\"list-1\">\n",
      "<li class=\"element\">Foo</li>\n",
      "<li class=\"element\">Bar</li>\n",
      "<li class=\"element\">Jay</li>\n",
      "</ul>]\n",
      "[<li class=\"element\">Foo</li>, <li class=\"element\">Bar</li>, <li class=\"element\">Jay</li>, <li class=\"element\">Foo</li>, <li class=\"element\">Bar</li>]\n"
     ]
    }
   ],
   "execution_count": 22
  },
  {
   "metadata": {},
   "cell_type": "markdown",
   "source": "`text` 参数可**用来匹配节点的文本**，传入的形式可以是字符串，可以是正则表达式对象，示例如下：",
   "id": "f39ccd51799f8d6d"
  },
  {
   "metadata": {
    "ExecuteTime": {
     "end_time": "2024-07-21T08:37:03.494746Z",
     "start_time": "2024-07-21T08:37:03.479743Z"
    }
   },
   "cell_type": "code",
   "source": [
    "import re\n",
    "html='''\n",
    "<div class=\"panel\">\n",
    "    <div class=\"panel-body\">\n",
    "        <a>Hello, this is a link</a>\n",
    "        <a>Hello, this is a link, too</a>\n",
    "    </div>\n",
    "</div>\n",
    "'''\n",
    "from bs4 import BeautifulSoup\n",
    "soup = BeautifulSoup(html, 'lxml')\n",
    "print(soup.find_all(text=re.compile('link')))"
   ],
   "id": "184dacf105fa964d",
   "outputs": [
    {
     "name": "stdout",
     "output_type": "stream",
     "text": [
      "['Hello, this is a link', 'Hello, this is a link, too']\n"
     ]
    }
   ],
   "execution_count": 23
  },
  {
   "metadata": {},
   "cell_type": "markdown",
   "source": [
    "`find` 方法返回的是单个元素，也就是第一个匹配的元素，而 `find_all` 返回的是所有匹配的元素组成的列表。示例如下：\n",
    "> 返回结果不再是列表形式，而是第一个匹配的节点元素，类型依然是 Tag 类型"
   ],
   "id": "18328b524376e177"
  },
  {
   "metadata": {
    "ExecuteTime": {
     "end_time": "2024-07-21T08:37:58.515605Z",
     "start_time": "2024-07-21T08:37:58.510604Z"
    }
   },
   "cell_type": "code",
   "source": [
    "html='''\n",
    "<div class=\"panel\">\n",
    "    <div class=\"panel-heading\">\n",
    "        <h4>Hello</h4>\n",
    "    </div>\n",
    "    <div class=\"panel-body\">\n",
    "        <ul class=\"list\" id=\"list-1\">\n",
    "            <li class=\"element\">Foo</li>\n",
    "            <li class=\"element\">Bar</li>\n",
    "            <li class=\"element\">Jay</li>\n",
    "        </ul>\n",
    "        <ul class=\"list list-small\" id=\"list-2\">\n",
    "            <li class=\"element\">Foo</li>\n",
    "            <li class=\"element\">Bar</li>\n",
    "        </ul>\n",
    "    </div>\n",
    "</div>\n",
    "'''\n",
    "from bs4 import BeautifulSoup\n",
    "soup = BeautifulSoup(html, 'lxml')\n",
    "print(soup.find(name='ul'))\n",
    "print(type(soup.find(name='ul')))\n",
    "print(soup.find(class_='list'))"
   ],
   "id": "cb4afdb86a85e8d",
   "outputs": [
    {
     "name": "stdout",
     "output_type": "stream",
     "text": [
      "<ul class=\"list\" id=\"list-1\">\n",
      "<li class=\"element\">Foo</li>\n",
      "<li class=\"element\">Bar</li>\n",
      "<li class=\"element\">Jay</li>\n",
      "</ul>\n",
      "<class 'bs4.element.Tag'>\n",
      "<ul class=\"list\" id=\"list-1\">\n",
      "<li class=\"element\">Foo</li>\n",
      "<li class=\"element\">Bar</li>\n",
      "<li class=\"element\">Jay</li>\n",
      "</ul>\n"
     ]
    }
   ],
   "execution_count": 24
  },
  {
   "metadata": {},
   "cell_type": "markdown",
   "source": [
    "其它方法：\n",
    "\n",
    "```\n",
    "find_parents 和 find_parent：前者返回所有祖先节点，后者返回直接父节点。\n",
    "\n",
    "find_next_siblings 和 find_next_sibling：前者返回后面所有的兄弟节点，后者返回后面第一个兄弟节点。\n",
    "\n",
    "find_previous_siblings 和 find_previous_sibling：前者返回前面所有的兄弟节点，后者返回前面第一个兄弟节点。\n",
    "\n",
    "find_all_next 和 find_next：前者返回节点后所有符合条件的节点，后者返回第一个符合条件的节点。\n",
    "\n",
    "find_all_previous 和 find_previous：前者返回节点前所有符合条件的节点，后者返回第一个符合条件的节点。\n",
    "```"
   ],
   "id": "21a4cccdd7ed3a74"
  },
  {
   "metadata": {},
   "cell_type": "markdown",
   "source": [
    "**CSS 选择器**`⭐⭐⭐`\n",
    "\n",
    "Beautiful Soup 还提供 CSS 选择器。\n",
    "\n",
    "使用 CSS 选择器，只需要调用 `select` 方法，传入相应的 CSS 选择器即可，用一个实例来感受一下："
   ],
   "id": "e29b67123fece064"
  },
  {
   "metadata": {
    "ExecuteTime": {
     "end_time": "2024-07-21T08:43:30.346511Z",
     "start_time": "2024-07-21T08:43:30.337510Z"
    }
   },
   "cell_type": "code",
   "source": [
    "html='''\n",
    "<div class=\"panel\">\n",
    "    <div class=\"panel-heading\">\n",
    "        <h4>Hello</h4>\n",
    "    </div>\n",
    "    <div class=\"panel-body\">\n",
    "        <ul class=\"list\" id=\"list-1\">\n",
    "            <li class=\"element\">Foo</li>\n",
    "            <li class=\"element\">Bar</li>\n",
    "            <li class=\"element\">Jay</li>\n",
    "        </ul>\n",
    "        <ul class=\"list list-small\" id=\"list-2\">\n",
    "            <li class=\"element\">Foo</li>\n",
    "            <li class=\"element\">Bar</li>\n",
    "        </ul>\n",
    "    </div>\n",
    "</div>\n",
    "'''\n",
    "from bs4 import BeautifulSoup\n",
    "soup = BeautifulSoup(html, 'lxml')\n",
    "print(soup.select('.panel .panel-heading'))\n",
    "print(soup.select('ul li'))\n",
    "print(soup.select('#list-2 .element'))\n",
    "print(type(soup.select('ul')[0]))"
   ],
   "id": "99256490adf5716c",
   "outputs": [
    {
     "name": "stdout",
     "output_type": "stream",
     "text": [
      "[<div class=\"panel-heading\">\n",
      "<h4>Hello</h4>\n",
      "</div>]\n",
      "[<li class=\"element\">Foo</li>, <li class=\"element\">Bar</li>, <li class=\"element\">Jay</li>, <li class=\"element\">Foo</li>, <li class=\"element\">Bar</li>]\n",
      "[<li class=\"element\">Foo</li>, <li class=\"element\">Bar</li>]\n",
      "<class 'bs4.element.Tag'>\n"
     ]
    }
   ],
   "execution_count": 25
  },
  {
   "metadata": {},
   "cell_type": "markdown",
   "source": [
    "**嵌套选择**\n",
    "\n",
    "`select` 方法同样支持嵌套选择，例如先选择所有 `ul` 节点，再遍历每个 `ul` 节点选择其 `li` 节点，样例如下："
   ],
   "id": "1c1b1a95a3dfc0a3"
  },
  {
   "metadata": {
    "ExecuteTime": {
     "end_time": "2024-07-21T08:44:23.068878Z",
     "start_time": "2024-07-21T08:44:23.052876Z"
    }
   },
   "cell_type": "code",
   "source": [
    "from bs4 import BeautifulSoup\n",
    "soup = BeautifulSoup(html, 'lxml')\n",
    "for ul in soup.select('ul'):\n",
    "    print(ul.select('li'))"
   ],
   "id": "593dca807b5db5de",
   "outputs": [
    {
     "name": "stdout",
     "output_type": "stream",
     "text": [
      "[<li class=\"element\">Foo</li>, <li class=\"element\">Bar</li>, <li class=\"element\">Jay</li>]\n",
      "[<li class=\"element\">Foo</li>, <li class=\"element\">Bar</li>]\n"
     ]
    }
   ],
   "execution_count": 26
  },
  {
   "metadata": {},
   "cell_type": "markdown",
   "source": [
    "**获取属性**\n",
    "\n",
    "由于节点类型是 Tag 类型，所以获取属性还可以用原来的方法。\n",
    "\n",
    "仍然是上面的 HTML 文本，这里尝试获取每个 `ul` 节点的 `id` 属性：\n",
    "```python\n",
    "from bs4 import BeautifulSoup\n",
    "soup = BeautifulSoup(html, 'lxml')\n",
    "for ul in soup.select('ul'):\n",
    "    print(ul['id'])\n",
    "    print(ul.attrs['id'])\n",
    "```"
   ],
   "id": "9c562bf3d9e68e5e"
  },
  {
   "metadata": {},
   "cell_type": "markdown",
   "source": [
    "**获取文本**\n",
    "\n",
    "可以用前面所讲的 string 属性。\n",
    "\n",
    "此外，还可以使用 `get_text`方法，示例如下：\n",
    "```python\n",
    "from bs4 import BeautifulSoup\n",
    "soup = BeautifulSoup(html, 'lxml')\n",
    "for li in soup.select('li'):\n",
    "    print('Get Text:', li.get_text())\n",
    "    print('String:', li.string)\n",
    "```"
   ],
   "id": "3e2acf4df9298210"
  },
  {
   "metadata": {},
   "cell_type": "markdown",
   "source": [
    "**总结**\n",
    "\n",
    "- 推荐使用 `lxml` 解析库，必要时使用 `html.parser`。\n",
    "- 节点选择筛选功能弱但是速度快。\n",
    "- 建议使用 `find、find_all` 方法查询匹配单个结果或者多个结果。\n",
    "- 如果对 CSS 选择器熟悉的话可以使用 `select` 选择法。"
   ],
   "id": "ecd24f62a6a10bc7"
  },
  {
   "metadata": {},
   "cell_type": "markdown",
   "source": "<h3>使用 pyquery</h3>",
   "id": "b10b3d9af0319c75"
  },
  {
   "metadata": {},
   "cell_type": "markdown",
   "source": [
    "解析库 pyquery 更适合使用 CSS 选择器。\n",
    "\n",
    "像 `Beautiful Soup` 一样，初始化 `pyquery` 的时候，也需要传入 HTML 文本来初始化一个 PyQuery 对象。\n",
    "\n",
    "它的初始化方式有多种，比如直接**传入字符串，传入 URL，传入文件名**，等等。"
   ],
   "id": "e70d6ee83aa24895"
  },
  {
   "metadata": {},
   "cell_type": "markdown",
   "source": "**字符串初始化**",
   "id": "becc3ce3226a8534"
  },
  {
   "metadata": {
    "ExecuteTime": {
     "end_time": "2024-07-21T08:50:50.211920Z",
     "start_time": "2024-07-21T08:50:50.059884Z"
    }
   },
   "cell_type": "code",
   "source": [
    "html = '''\n",
    "<div>\n",
    "    <ul>\n",
    "         <li class=\"item-0\">first item</li>\n",
    "         <li class=\"item-1\"><a href=\"link2.html\">second item</a></li>\n",
    "         <li class=\"item-0 active\"><a href=\"link3.html\"><span class=\"bold\">third item</span></a></li>\n",
    "         <li class=\"item-1 active\"><a href=\"link4.html\">fourth item</a></li>\n",
    "         <li class=\"item-0\"><a href=\"link5.html\">fifth item</a></li>\n",
    "     </ul>\n",
    " </div>\n",
    "'''\n",
    "from pyquery import PyQuery as pq\n",
    "doc = pq(html)\n",
    "print(doc('li'))"
   ],
   "id": "cc6da57f857de5ed",
   "outputs": [
    {
     "name": "stdout",
     "output_type": "stream",
     "text": [
      "<li class=\"item-0\">first item</li>\n",
      "         <li class=\"item-1\"><a href=\"link2.html\">second item</a></li>\n",
      "         <li class=\"item-0 active\"><a href=\"link3.html\"><span class=\"bold\">third item</span></a></li>\n",
      "         <li class=\"item-1 active\"><a href=\"link4.html\">fourth item</a></li>\n",
      "         <li class=\"item-0\"><a href=\"link5.html\">fifth item</a></li>\n",
      "     </ul>\n",
      " </div>\n",
      "         <li class=\"item-1\"><a href=\"link2.html\">second item</a></li>\n",
      "         <li class=\"item-0 active\"><a href=\"link3.html\"><span class=\"bold\">third item</span></a></li>\n",
      "         <li class=\"item-1 active\"><a href=\"link4.html\">fourth item</a></li>\n",
      "         <li class=\"item-0\"><a href=\"link5.html\">fifth item</a></li>\n",
      "     </ul>\n",
      " </div>\n",
      "         <li class=\"item-0 active\"><a href=\"link3.html\"><span class=\"bold\">third item</span></a></li>\n",
      "         <li class=\"item-1 active\"><a href=\"link4.html\">fourth item</a></li>\n",
      "         <li class=\"item-0\"><a href=\"link5.html\">fifth item</a></li>\n",
      "     </ul>\n",
      " </div>\n",
      "         <li class=\"item-1 active\"><a href=\"link4.html\">fourth item</a></li>\n",
      "         <li class=\"item-0\"><a href=\"link5.html\">fifth item</a></li>\n",
      "     </ul>\n",
      " </div>\n",
      "         <li class=\"item-0\"><a href=\"link5.html\">fifth item</a></li>\n",
      "     </ul>\n",
      " </div>\n",
      "     \n"
     ]
    }
   ],
   "execution_count": 27
  },
  {
   "metadata": {},
   "cell_type": "markdown",
   "source": [
    "**URL 初始化**\n",
    "\n",
    "初始化的参数不仅可以以字符串的形式传递，还可以传入网页的 URL，此时只需要指定参数为 url 即可："
   ],
   "id": "9565dce01f536950"
  },
  {
   "metadata": {
    "ExecuteTime": {
     "end_time": "2024-07-21T09:00:55.671568Z",
     "start_time": "2024-07-21T09:00:55.584545Z"
    }
   },
   "cell_type": "code",
   "source": [
    "from pyquery import PyQuery as pq\n",
    "doc = pq(url='https://www.baidu.com', encoding='utf-8')\n",
    "# 等价于 doc = pq(requests.get('https://www.baidu.com').text)\n",
    "print(doc('title').text())"
   ],
   "id": "51498d1706b3d65e",
   "outputs": [
    {
     "name": "stdout",
     "output_type": "stream",
     "text": [
      "百度一下，你就知道\n"
     ]
    }
   ],
   "execution_count": 36
  },
  {
   "metadata": {},
   "cell_type": "markdown",
   "source": [
    "**文件初始化**\n",
    "\n",
    "除了传递一个 URL，还可以传递本地的文件名，参数指定为 `filename` 即可：\n",
    "> PyQuery 默认情况下会将 `<script>` 标签的内容包括在解析后的结果中。如果不想在输出中包含 `<script>` 标签的内容，你可以在使用 PyQuery 解析 HTML 后手动移除它们。"
   ],
   "id": "732c41a482ca1ad7"
  },
  {
   "metadata": {
    "ExecuteTime": {
     "end_time": "2024-07-21T09:05:25.867191Z",
     "start_time": "2024-07-21T09:05:25.855188Z"
    }
   },
   "cell_type": "code",
   "source": [
    "from pyquery import PyQuery as pq\n",
    "doc = pq(filename='test.html')\n",
    "doc('script').remove()\n",
    "print(doc('li'))"
   ],
   "id": "87be6e5c1b05f24f",
   "outputs": [
    {
     "name": "stdout",
     "output_type": "stream",
     "text": [
      "<li class=\"item-0\">first item</li>\n",
      "         <li class=\"item-1\"><a href=\"link2.html\">second item</a></li>\n",
      "         <li class=\"item-0 active\"><a href=\"link3.html\"><span class=\"bold\">third item</span></a></li>\n",
      "         <li class=\"item-1 active\"><a href=\"link4.html\">fourth item</a></li>\n",
      "         <li class=\"item-0\"><a href=\"link5.html\">fifth item</a></li>\n",
      "     </ul>\n",
      " </div>\n",
      "\n",
      "</body>\n",
      "<!--human machine interact conversation-->\n",
      " \n",
      "<!--自动弹出窗口 30s后自动关 单击跳转到另一页面-->\n",
      " \n",
      " \n",
      "</html>\n",
      "         <li class=\"item-1\"><a href=\"link2.html\">second item</a></li>\n",
      "         <li class=\"item-0 active\"><a href=\"link3.html\"><span class=\"bold\">third item</span></a></li>\n",
      "         <li class=\"item-1 active\"><a href=\"link4.html\">fourth item</a></li>\n",
      "         <li class=\"item-0\"><a href=\"link5.html\">fifth item</a></li>\n",
      "     </ul>\n",
      " </div>\n",
      "\n",
      "</body>\n",
      "<!--human machine interact conversation-->\n",
      " \n",
      "<!--自动弹出窗口 30s后自动关 单击跳转到另一页面-->\n",
      " \n",
      " \n",
      "</html>\n",
      "         <li class=\"item-0 active\"><a href=\"link3.html\"><span class=\"bold\">third item</span></a></li>\n",
      "         <li class=\"item-1 active\"><a href=\"link4.html\">fourth item</a></li>\n",
      "         <li class=\"item-0\"><a href=\"link5.html\">fifth item</a></li>\n",
      "     </ul>\n",
      " </div>\n",
      "\n",
      "</body>\n",
      "<!--human machine interact conversation-->\n",
      " \n",
      "<!--自动弹出窗口 30s后自动关 单击跳转到另一页面-->\n",
      " \n",
      " \n",
      "</html>\n",
      "         <li class=\"item-1 active\"><a href=\"link4.html\">fourth item</a></li>\n",
      "         <li class=\"item-0\"><a href=\"link5.html\">fifth item</a></li>\n",
      "     </ul>\n",
      " </div>\n",
      "\n",
      "</body>\n",
      "<!--human machine interact conversation-->\n",
      " \n",
      "<!--自动弹出窗口 30s后自动关 单击跳转到另一页面-->\n",
      " \n",
      " \n",
      "</html>\n",
      "         <li class=\"item-0\"><a href=\"link5.html\">fifth item</a></li>\n",
      "     </ul>\n",
      " </div>\n",
      "\n",
      "</body>\n",
      "<!--human machine interact conversation-->\n",
      " \n",
      "<!--自动弹出窗口 30s后自动关 单击跳转到另一页面-->\n",
      " \n",
      " \n",
      "</html>\n",
      "     \n"
     ]
    }
   ],
   "execution_count": 40
  },
  {
   "metadata": {},
   "cell_type": "markdown",
   "source": "**基本 CSS 选择器**`⭐⭐⭐`",
   "id": "9fa3d39e57711983"
  },
  {
   "metadata": {
    "ExecuteTime": {
     "end_time": "2024-07-21T09:06:45.441699Z",
     "start_time": "2024-07-21T09:06:45.424696Z"
    }
   },
   "cell_type": "code",
   "source": [
    "html = '''\n",
    "<div id=\"container\">\n",
    "    <ul class=\"list\">\n",
    "         <li class=\"item-0\">first item</li>\n",
    "         <li class=\"item-1\"><a href=\"link2.html\">second item</a></li>\n",
    "         <li class=\"item-0 active\"><a href=\"link3.html\"><span class=\"bold\">third item</span></a></li>\n",
    "         <li class=\"item-1 active\"><a href=\"link4.html\">fourth item</a></li>\n",
    "         <li class=\"item-0\"><a href=\"link5.html\">fifth item</a></li>\n",
    "     </ul>\n",
    " </div>\n",
    "'''\n",
    "from pyquery import PyQuery as pq\n",
    "doc = pq(html)\n",
    "# 先选取 id 为 container 的节点，然后再选取其内部的 class 为 list 的节点内部的所有 li 节点\n",
    "print(doc('#container .list li'))\n",
    "print(type(doc('#container .list li')))"
   ],
   "id": "179aaabf0d09a9b5",
   "outputs": [
    {
     "name": "stdout",
     "output_type": "stream",
     "text": [
      "<li class=\"item-0\">first item</li>\n",
      "         <li class=\"item-1\"><a href=\"link2.html\">second item</a></li>\n",
      "         <li class=\"item-0 active\"><a href=\"link3.html\"><span class=\"bold\">third item</span></a></li>\n",
      "         <li class=\"item-1 active\"><a href=\"link4.html\">fourth item</a></li>\n",
      "         <li class=\"item-0\"><a href=\"link5.html\">fifth item</a></li>\n",
      "     </ul>\n",
      " </div>\n",
      "         <li class=\"item-1\"><a href=\"link2.html\">second item</a></li>\n",
      "         <li class=\"item-0 active\"><a href=\"link3.html\"><span class=\"bold\">third item</span></a></li>\n",
      "         <li class=\"item-1 active\"><a href=\"link4.html\">fourth item</a></li>\n",
      "         <li class=\"item-0\"><a href=\"link5.html\">fifth item</a></li>\n",
      "     </ul>\n",
      " </div>\n",
      "         <li class=\"item-0 active\"><a href=\"link3.html\"><span class=\"bold\">third item</span></a></li>\n",
      "         <li class=\"item-1 active\"><a href=\"link4.html\">fourth item</a></li>\n",
      "         <li class=\"item-0\"><a href=\"link5.html\">fifth item</a></li>\n",
      "     </ul>\n",
      " </div>\n",
      "         <li class=\"item-1 active\"><a href=\"link4.html\">fourth item</a></li>\n",
      "         <li class=\"item-0\"><a href=\"link5.html\">fifth item</a></li>\n",
      "     </ul>\n",
      " </div>\n",
      "         <li class=\"item-0\"><a href=\"link5.html\">fifth item</a></li>\n",
      "     </ul>\n",
      " </div>\n",
      "     \n",
      "<class 'pyquery.pyquery.PyQuery'>\n"
     ]
    }
   ],
   "execution_count": 41
  },
  {
   "metadata": {},
   "cell_type": "markdown",
   "source": [
    "**查找子节点**\n",
    "\n",
    "需要用到 `find` 方法，传入的参数是 CSS 选择器，我还是以上面的 HTML 为例："
   ],
   "id": "719ac2d0f8ff98d0"
  },
  {
   "metadata": {
    "ExecuteTime": {
     "end_time": "2024-07-21T09:10:25.938265Z",
     "start_time": "2024-07-21T09:10:25.930263Z"
    }
   },
   "cell_type": "code",
   "source": [
    "from pyquery import PyQuery as pq\n",
    "\n",
    "html = '''\n",
    "<div id=\"container\">\n",
    "    <ul class=\"list\">\n",
    "         <li class=\"item-0\">first item</li>\n",
    "         <li class=\"item-1\"><a href=\"link2.html\">second item</a></li>\n",
    "         <li class=\"item-0 active\"><a href=\"link3.html\"><span class=\"bold\">third item</span></a></li>\n",
    "         <li class=\"item-1 active\"><a href=\"link4.html\">fourth item</a></li>\n",
    "         <li class=\"item-0\"><a href=\"link5.html\">fifth item</a></li>\n",
    "     </ul>\n",
    " </div>\n",
    "'''\n",
    "doc = pq(html)\n",
    "items = doc('.list')\n",
    "# print(type(items))\n",
    "# print(items)\n",
    "# lis = items.find('li')\n",
    "# print(type(lis))\n",
    "# print(lis)\n",
    "\n",
    "lis = items.children('.active')\n",
    "print(lis)"
   ],
   "id": "e3c8e53b0c5ede6e",
   "outputs": [
    {
     "name": "stdout",
     "output_type": "stream",
     "text": [
      "<li class=\"item-0 active\"><a href=\"link3.html\"><span class=\"bold\">third item</span></a></li>\n",
      "         <li class=\"item-1 active\"><a href=\"link4.html\">fourth item</a></li>\n",
      "         <li class=\"item-0\"><a href=\"link5.html\">fifth item</a></li>\n",
      "     </ul>\n",
      " </div>\n",
      "         <li class=\"item-1 active\"><a href=\"link4.html\">fourth item</a></li>\n",
      "         <li class=\"item-0\"><a href=\"link5.html\">fifth item</a></li>\n",
      "     </ul>\n",
      " </div>\n",
      "         \n"
     ]
    }
   ],
   "execution_count": 47
  },
  {
   "metadata": {},
   "cell_type": "markdown",
   "source": [
    "**父节点**\n",
    "\n",
    "用 `parent` 方法来获取某个节点的父节点，用一个实例来感受一下：\n",
    "> 获取某个祖先节点，用`parents()`"
   ],
   "id": "36f159efe93afeb"
  },
  {
   "metadata": {
    "ExecuteTime": {
     "end_time": "2024-07-21T09:11:15.694466Z",
     "start_time": "2024-07-21T09:11:15.684464Z"
    }
   },
   "cell_type": "code",
   "source": [
    "html = '''\n",
    "<div class=\"wrap\">\n",
    "    <div id=\"container\">\n",
    "        <ul class=\"list\">\n",
    "             <li class=\"item-0\">first item</li>\n",
    "             <li class=\"item-1\"><a href=\"link2.html\">second item</a></li>\n",
    "             <li class=\"item-0 active\"><a href=\"link3.html\"><span class=\"bold\">third item</span></a></li>\n",
    "             <li class=\"item-1 active\"><a href=\"link4.html\">fourth item</a></li>\n",
    "             <li class=\"item-0\"><a href=\"link5.html\">fifth item</a></li>\n",
    "         </ul>\n",
    "     </div>\n",
    " </div>\n",
    "'''\n",
    "from pyquery import PyQuery as pq\n",
    "doc = pq(html)\n",
    "items = doc('.list')\n",
    "container = items.parent()\n",
    "print(type(container))\n",
    "print(container)"
   ],
   "id": "759b71ddb35e6aca",
   "outputs": [
    {
     "name": "stdout",
     "output_type": "stream",
     "text": [
      "<class 'pyquery.pyquery.PyQuery'>\n",
      "<div id=\"container\">\n",
      "        <ul class=\"list\">\n",
      "             <li class=\"item-0\">first item</li>\n",
      "             <li class=\"item-1\"><a href=\"link2.html\">second item</a></li>\n",
      "             <li class=\"item-0 active\"><a href=\"link3.html\"><span class=\"bold\">third item</span></a></li>\n",
      "             <li class=\"item-1 active\"><a href=\"link4.html\">fourth item</a></li>\n",
      "             <li class=\"item-0\"><a href=\"link5.html\">fifth item</a></li>\n",
      "         </ul>\n",
      "     </div>\n",
      " </div>\n",
      " \n"
     ]
    }
   ],
   "execution_count": 48
  },
  {
   "metadata": {},
   "cell_type": "markdown",
   "source": [
    "**兄弟节点**\n",
    "\n",
    "使用 `siblings()` 方法。这里还是以上面的 HTML 代码为例：\n",
    "```python\n",
    "from pyquery import PyQuery as pq\n",
    "doc = pq(html)\n",
    "li = doc('.list .item-0.active')\n",
    "print(li.siblings())\n",
    "```\n",
    "\n",
    "如果要筛选某个兄弟节点，依然可以向 siblings 方法传入 CSS 选择器，这样就会从所有兄弟节点中挑选出符合条件的节点了：\n",
    "```python\n",
    "from pyquery import PyQuery as pq\n",
    "doc = pq(html)\n",
    "li = doc('.list .item-0.active')\n",
    "print(li.siblings('.active'))\n",
    "```"
   ],
   "id": "d1227511aa06a5e0"
  },
  {
   "metadata": {},
   "cell_type": "markdown",
   "source": [
    "**遍历**\n",
    "\n",
    "刚才可以观察到，pyquery 的选择结果可能是多个节点，也可能是单个节点，类型都是 PyQuery 类型，并没有返回像 Beautiful Soup 那样的列表。\n",
    "\n",
    "对于单个节点来说，可以直接打印输出，也可以直接转成字符串：\n",
    "```python\n",
    "from pyquery import PyQuery as pq\n",
    "doc = pq(html)\n",
    "li = doc('.item-0.active')\n",
    "print(li)\n",
    "print(str(li))\n",
    "```"
   ],
   "id": "3a42b694bb4e7e7b"
  },
  {
   "metadata": {},
   "cell_type": "markdown",
   "source": [
    "对于多个节点的结果就需要遍历来获取了。例如，这里把每一个 `li` 节点进行遍历，需要调用 `items` 方法：\n",
    "```python\n",
    "from pyquery import PyQuery as pq\n",
    "doc = pq(html)\n",
    "lis = doc('li').items()\n",
    "print(type(lis))\n",
    "for li in lis:\n",
    "    print(li, type(li))\n",
    "```"
   ],
   "id": "f38235dfee19fc0f"
  },
  {
   "metadata": {},
   "cell_type": "markdown",
   "source": [
    "**获取信息**\n",
    "\n",
    "提取到节点之后，我最终目的当然是提取节点所包含的信息了。\n",
    "\n",
    "比较重要的信息有两类，一是**获取属性**，二是**获取文本**"
   ],
   "id": "ffc7fda43d7aaec0"
  },
  {
   "metadata": {},
   "cell_type": "markdown",
   "source": [
    "**获取属性**\n",
    "\n",
    "提取到某个 PyQuery 类型的节点后，就可以调用 `attr()` 方法来获取属性："
   ],
   "id": "e9af86771f75149b"
  },
  {
   "metadata": {
    "ExecuteTime": {
     "end_time": "2024-07-21T09:15:44.445610Z",
     "start_time": "2024-07-21T09:15:44.440608Z"
    }
   },
   "cell_type": "code",
   "source": [
    "html = '''\n",
    "<div class=\"wrap\">\n",
    "    <div id=\"container\">\n",
    "        <ul class=\"list\">\n",
    "             <li class=\"item-0\">first item</li>\n",
    "             <li class=\"item-1\"><a href=\"link2.html\">second item</a></li>\n",
    "             <li class=\"item-0 active\"><a href=\"link3.html\"><span class=\"bold\">third item</span></a></li>\n",
    "             <li class=\"item-1 active\"><a href=\"link4.html\">fourth item</a></li>\n",
    "             <li class=\"item-0\"><a href=\"link5.html\">fifth item</a></li>\n",
    "         </ul>\n",
    "     </div>\n",
    " </div>\n",
    "'''\n",
    "from pyquery import PyQuery as pq\n",
    "doc = pq(html)\n",
    "a = doc('.item-0.active a')\n",
    "print(a, type(a))\n",
    "print(a.attr('href'))\n",
    "\n",
    "# 也可以通过调用 attr 属性来获取属性，用法如下\n",
    "print(a.attr.href)"
   ],
   "id": "5206bc8f2f0586b4",
   "outputs": [
    {
     "name": "stdout",
     "output_type": "stream",
     "text": [
      "<a href=\"link3.html\"><span class=\"bold\">third item</span></a></li>\n",
      "             <li class=\"item-1 active\"><a href=\"link4.html\">fourth item</a></li>\n",
      "             <li class=\"item-0\"><a href=\"link5.html\">fifth item</a></li>\n",
      "         </ul>\n",
      "     </div>\n",
      " </div> <class 'pyquery.pyquery.PyQuery'>\n",
      "link3.html\n",
      "link3.html\n"
     ]
    }
   ],
   "execution_count": 50
  },
  {
   "metadata": {},
   "cell_type": "markdown",
   "source": [
    "**获取文本**\n",
    "\n",
    "可以调用 `text` 方法来实现："
   ],
   "id": "ac9b76ff307ce8af"
  },
  {
   "metadata": {
    "ExecuteTime": {
     "end_time": "2024-07-21T09:16:22.749709Z",
     "start_time": "2024-07-21T09:16:22.746708Z"
    }
   },
   "cell_type": "code",
   "source": [
    "html = '''\n",
    "<div class=\"wrap\">\n",
    "    <div id=\"container\">\n",
    "        <ul class=\"list\">\n",
    "             <li class=\"item-0\">first item</li>\n",
    "             <li class=\"item-1\"><a href=\"link2.html\">second item</a></li>\n",
    "             <li class=\"item-0 active\"><a href=\"link3.html\"><span class=\"bold\">third item</span></a></li>\n",
    "             <li class=\"item-1 active\"><a href=\"link4.html\">fourth item</a></li>\n",
    "             <li class=\"item-0\"><a href=\"link5.html\">fifth item</a></li>\n",
    "         </ul>\n",
    "     </div>\n",
    " </div>\n",
    "'''\n",
    "from pyquery import PyQuery as pq\n",
    "doc = pq(html)\n",
    "a = doc('.item-0.active a')\n",
    "print(a)\n",
    "print(a.text())"
   ],
   "id": "1f0f9844ed406e49",
   "outputs": [
    {
     "name": "stdout",
     "output_type": "stream",
     "text": [
      "<a href=\"link3.html\"><span class=\"bold\">third item</span></a></li>\n",
      "             <li class=\"item-1 active\"><a href=\"link4.html\">fourth item</a></li>\n",
      "             <li class=\"item-0\"><a href=\"link5.html\">fifth item</a></li>\n",
      "         </ul>\n",
      "     </div>\n",
      " </div>\n",
      "third item\n"
     ]
    }
   ],
   "execution_count": 51
  },
  {
   "metadata": {},
   "cell_type": "markdown",
   "source": [
    "**节点操作**\n",
    "\n",
    "pyquery 提供了一系列方法来**对节点进行动态修改**，比如为某个节点添加一个 class，移除某个节点等，这些操作有时候会为提取信息带来极大的便利。\n",
    "\n",
    "由于节点操作的方法太多，下面举几个典型的例子来说明它的用法。\n",
    "\n",
    "**addClass 和 removeClass**"
   ],
   "id": "a751f76ca88ddc72"
  },
  {
   "metadata": {
    "ExecuteTime": {
     "end_time": "2024-07-21T09:17:14.173449Z",
     "start_time": "2024-07-21T09:17:14.165449Z"
    }
   },
   "cell_type": "code",
   "source": [
    "html = '''\n",
    "<div class=\"wrap\">\n",
    "    <div id=\"container\">\n",
    "        <ul class=\"list\">\n",
    "             <li class=\"item-0\">first item</li>\n",
    "             <li class=\"item-1\"><a href=\"link2.html\">second item</a></li>\n",
    "             <li class=\"item-0 active\"><a href=\"link3.html\"><span class=\"bold\">third item</span></a></li>\n",
    "             <li class=\"item-1 active\"><a href=\"link4.html\">fourth item</a></li>\n",
    "             <li class=\"item-0\"><a href=\"link5.html\">fifth item</a></li>\n",
    "         </ul>\n",
    "     </div>\n",
    " </div>\n",
    "'''\n",
    "from pyquery import PyQuery as pq\n",
    "doc = pq(html)\n",
    "li = doc('.item-0.active')\n",
    "print(li)\n",
    "li.removeClass('active')\n",
    "print(li)\n",
    "li.addClass('active')\n",
    "print(li)"
   ],
   "id": "8dfee9dae7286165",
   "outputs": [
    {
     "name": "stdout",
     "output_type": "stream",
     "text": [
      "<li class=\"item-0 active\"><a href=\"link3.html\"><span class=\"bold\">third item</span></a></li>\n",
      "             <li class=\"item-1 active\"><a href=\"link4.html\">fourth item</a></li>\n",
      "             <li class=\"item-0\"><a href=\"link5.html\">fifth item</a></li>\n",
      "         </ul>\n",
      "     </div>\n",
      " </div>\n",
      "             \n",
      "<li class=\"item-0\"><a href=\"link3.html\"><span class=\"bold\">third item</span></a></li>\n",
      "             <li class=\"item-1 active\"><a href=\"link4.html\">fourth item</a></li>\n",
      "             <li class=\"item-0\"><a href=\"link5.html\">fifth item</a></li>\n",
      "         </ul>\n",
      "     </div>\n",
      " </div>\n",
      "             \n",
      "<li class=\"item-0 active\"><a href=\"link3.html\"><span class=\"bold\">third item</span></a></li>\n",
      "             <li class=\"item-1 active\"><a href=\"link4.html\">fourth item</a></li>\n",
      "             <li class=\"item-0\"><a href=\"link5.html\">fifth item</a></li>\n",
      "         </ul>\n",
      "     </div>\n",
      " </div>\n",
      "             \n"
     ]
    }
   ],
   "execution_count": 52
  },
  {
   "metadata": {},
   "cell_type": "markdown",
   "source": [
    "**attr、text、html**\n",
    "\n",
    "当然，除了操作 `class` 这个属性外，也可以用 `attr` 方法对属性进行操作。此外，还可以用 `text` 和 `html` 方法来改变节点内部的内容。示例如下："
   ],
   "id": "ca2eee7529e2e029"
  },
  {
   "metadata": {
    "ExecuteTime": {
     "end_time": "2024-07-21T09:18:06.036915Z",
     "start_time": "2024-07-21T09:18:06.020915Z"
    }
   },
   "cell_type": "code",
   "source": [
    "html = '''\n",
    "<ul class=\"list\">\n",
    "     <li class=\"item-0 active\"><a href=\"link3.html\"><span class=\"bold\">third item</span></a></li>\n",
    "</ul>\n",
    "'''\n",
    "from pyquery import PyQuery as pq\n",
    "doc = pq(html)\n",
    "li = doc('.item-0.active')\n",
    "print(li)\n",
    "li.attr('name', 'link')\n",
    "print(li)\n",
    "li.text('changed item')\n",
    "print(li)\n",
    "li.html('<span>changed item</span>')\n",
    "print(li)"
   ],
   "id": "ebf56152ca76dd60",
   "outputs": [
    {
     "name": "stdout",
     "output_type": "stream",
     "text": [
      "<li class=\"item-0 active\"><a href=\"link3.html\"><span class=\"bold\">third item</span></a></li>\n",
      "</ul>\n",
      "\n",
      "<li class=\"item-0 active\" name=\"link\"><a href=\"link3.html\"><span class=\"bold\">third item</span></a></li>\n",
      "</ul>\n",
      "\n",
      "<li class=\"item-0 active\" name=\"link\">changed item</li>\n",
      "</ul>\n",
      "\n",
      "<li class=\"item-0 active\" name=\"link\"><span>changed item</span></li>\n",
      "</ul>\n",
      "\n"
     ]
    }
   ],
   "execution_count": 53
  },
  {
   "metadata": {},
   "cell_type": "markdown",
   "source": [
    "**remove 方法**\n",
    "\n",
    "有时会为信息的提取带来非常大的便利。下面有一段 HTML 文本："
   ],
   "id": "4d4e5757bf10a7f6"
  },
  {
   "metadata": {
    "ExecuteTime": {
     "end_time": "2024-07-21T09:20:18.483312Z",
     "start_time": "2024-07-21T09:20:18.467309Z"
    }
   },
   "cell_type": "code",
   "source": [
    "html = '''\n",
    "<div class=\"wrap\">\n",
    "    Hello, World\n",
    "    <p>This is a paragraph.</p>\n",
    " </div>\n",
    "'''\n",
    "from pyquery import PyQuery as pq\n",
    "doc = pq(html)\n",
    "wrap = doc('.wrap')\n",
    "print(wrap.text())\n",
    "\n",
    "# 提取 `Hello, World` 这个字符串，而不要 `p` 节点内部的字符串\n",
    "wrap.find('p').remove()\n",
    "print(\"------\")\n",
    "print(wrap.text())"
   ],
   "id": "17e54fea7e427d38",
   "outputs": [
    {
     "name": "stdout",
     "output_type": "stream",
     "text": [
      "Hello, World\n",
      "This is a paragraph.\n",
      "------\n",
      "Hello, World\n"
     ]
    }
   ],
   "execution_count": 56
  },
  {
   "metadata": {},
   "cell_type": "markdown",
   "source": [
    "另外，其实还有很多节点操作的方法，比如 `append()、empty() 和 prepend()` 等方法，它们和 jQuery 的用法完全一致，\n",
    "\n",
    "详细的用法可以参考官方文档：https://pyquery.readthedocs.io/en/latest/api.html"
   ],
   "id": "7f4806bbbfda297b"
  },
  {
   "metadata": {},
   "cell_type": "markdown",
   "source": [
    "**伪类选择器**\n",
    "\n",
    "CSS 选择器之所以强大，还有一个很重要的原因，那就是它支持多种多样的伪类选择器，\n",
    "\n",
    "例如选择第一个节点、最后一个节点、奇偶数节点、包含某一文本的节点等。示例如下："
   ],
   "id": "39a642d7b5d657ab"
  },
  {
   "metadata": {
    "ExecuteTime": {
     "end_time": "2024-07-21T09:21:26.323261Z",
     "start_time": "2024-07-21T09:21:26.306258Z"
    }
   },
   "cell_type": "code",
   "source": [
    "html = '''\n",
    "<div class=\"wrap\">\n",
    "    <div id=\"container\">\n",
    "        <ul class=\"list\">\n",
    "             <li class=\"item-0\">first item</li>\n",
    "             <li class=\"item-1\"><a href=\"link2.html\">second item</a></li>\n",
    "             <li class=\"item-0 active\"><a href=\"link3.html\"><span class=\"bold\">third item</span></a></li>\n",
    "             <li class=\"item-1 active\"><a href=\"link4.html\">fourth item</a></li>\n",
    "             <li class=\"item-0\"><a href=\"link5.html\">fifth item</a></li>\n",
    "         </ul>\n",
    "     </div>\n",
    " </div>\n",
    "'''\n",
    "from pyquery import PyQuery as pq\n",
    "doc = pq(html)\n",
    "li = doc('li:first-child')\n",
    "print(li)\n",
    "li = doc('li:last-child')\n",
    "print(li)\n",
    "li = doc('li:nth-child(2)')\n",
    "print(li)\n",
    "li = doc('li:gt(2)')\n",
    "print(li)\n",
    "li = doc('li:nth-child(2n)')\n",
    "print(li)\n",
    "li = doc('li:contains(second)')\n",
    "print(li)"
   ],
   "id": "ce32507cbe3d7815",
   "outputs": [
    {
     "name": "stdout",
     "output_type": "stream",
     "text": [
      "<li class=\"item-0\">first item</li>\n",
      "             <li class=\"item-1\"><a href=\"link2.html\">second item</a></li>\n",
      "             <li class=\"item-0 active\"><a href=\"link3.html\"><span class=\"bold\">third item</span></a></li>\n",
      "             <li class=\"item-1 active\"><a href=\"link4.html\">fourth item</a></li>\n",
      "             <li class=\"item-0\"><a href=\"link5.html\">fifth item</a></li>\n",
      "         </ul>\n",
      "     </div>\n",
      " </div>\n",
      "             \n",
      "<li class=\"item-0\"><a href=\"link5.html\">fifth item</a></li>\n",
      "         </ul>\n",
      "     </div>\n",
      " </div>\n",
      "         \n",
      "<li class=\"item-1\"><a href=\"link2.html\">second item</a></li>\n",
      "             <li class=\"item-0 active\"><a href=\"link3.html\"><span class=\"bold\">third item</span></a></li>\n",
      "             <li class=\"item-1 active\"><a href=\"link4.html\">fourth item</a></li>\n",
      "             <li class=\"item-0\"><a href=\"link5.html\">fifth item</a></li>\n",
      "         </ul>\n",
      "     </div>\n",
      " </div>\n",
      "             \n",
      "<li class=\"item-1 active\"><a href=\"link4.html\">fourth item</a></li>\n",
      "             <li class=\"item-0\"><a href=\"link5.html\">fifth item</a></li>\n",
      "         </ul>\n",
      "     </div>\n",
      " </div>\n",
      "             <li class=\"item-0\"><a href=\"link5.html\">fifth item</a></li>\n",
      "         </ul>\n",
      "     </div>\n",
      " </div>\n",
      "         \n",
      "<li class=\"item-1\"><a href=\"link2.html\">second item</a></li>\n",
      "             <li class=\"item-0 active\"><a href=\"link3.html\"><span class=\"bold\">third item</span></a></li>\n",
      "             <li class=\"item-1 active\"><a href=\"link4.html\">fourth item</a></li>\n",
      "             <li class=\"item-0\"><a href=\"link5.html\">fifth item</a></li>\n",
      "         </ul>\n",
      "     </div>\n",
      " </div>\n",
      "             <li class=\"item-1 active\"><a href=\"link4.html\">fourth item</a></li>\n",
      "             <li class=\"item-0\"><a href=\"link5.html\">fifth item</a></li>\n",
      "         </ul>\n",
      "     </div>\n",
      " </div>\n",
      "             \n",
      "<li class=\"item-1\"><a href=\"link2.html\">second item</a></li>\n",
      "             <li class=\"item-0 active\"><a href=\"link3.html\"><span class=\"bold\">third item</span></a></li>\n",
      "             <li class=\"item-1 active\"><a href=\"link4.html\">fourth item</a></li>\n",
      "             <li class=\"item-0\"><a href=\"link5.html\">fifth item</a></li>\n",
      "         </ul>\n",
      "     </div>\n",
      " </div>\n",
      "             \n"
     ]
    }
   ],
   "execution_count": 57
  },
  {
   "metadata": {},
   "cell_type": "markdown",
   "source": "关于 CSS 选择器的更多用法，可以参考 https://www.w3school.com.cn/css/index.asp",
   "id": "98a65739187cfa0c"
  }
 ],
 "metadata": {
  "kernelspec": {
   "display_name": "Python 3",
   "language": "python",
   "name": "python3"
  },
  "language_info": {
   "codemirror_mode": {
    "name": "ipython",
    "version": 2
   },
   "file_extension": ".py",
   "mimetype": "text/x-python",
   "name": "python",
   "nbconvert_exporter": "python",
   "pygments_lexer": "ipython2",
   "version": "2.7.6"
  }
 },
 "nbformat": 4,
 "nbformat_minor": 5
}
