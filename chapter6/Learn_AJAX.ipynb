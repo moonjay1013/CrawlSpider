{
 "cells": [
  {
   "metadata": {},
   "cell_type": "markdown",
   "source": "<h2>Ajax 数据爬取</h2>",
   "id": "a0e62940b27bbb3a"
  },
  {
   "metadata": {},
   "cell_type": "markdown",
   "source": [
    "在用 `requests` 抓取页面的时候，得到的结果可能和在浏览器中看到的不一样：在浏览器中可以看到正常显示的页面数据，但是使用 `requests` 得到的结果并没有。\n",
    "\n",
    "这是因为 `requests` 获取的都是原始的 HTML 文档，而浏览器中的页面则是经过 JavaScript 处理数据后生成的结果，这些数据的来源有多种，可能是通过 Ajax 加载的，可能是包含在 HTML 文档中的，也可能是经过 JavaScript 和特定算法计算后生成的。\n",
    "\n",
    "对于第一种情况，数据加载是一种异步加载方式，原始的页面最初不会包含某些数据，原始页面加载完后，会再向服务器请求某个接口获取数据，然后数据才被处理从而呈现到网页上，这其实就是发送了一个 Ajax 请求。\n",
    "\n",
    "网页的原始 HTML 文档不会包含任何数据，数据都是通过 Ajax 统一加载后再呈现出来的，这样在 Web 开发上可以做到前后端分离，而且降低服务器直接渲染页面带来的压力。\n",
    "\n",
    "如果遇到这样的页面，直接利用 `requests` 等库来抓取原始页面，是无法获取到有效数据的，这时需要分析网页后台向接口发送的 Ajax 请求，用 `requests` 来模拟 Ajax 请求。"
   ],
   "id": "bd74bbe4f9709e4b"
  },
  {
   "metadata": {},
   "cell_type": "markdown",
   "source": [
    "**什么是 Ajax**\n",
    "\n",
    "Ajax，Asynchronous JavaScript and XML，即异步的 JavaScript 和 XML。\n",
    "\n",
    "它不是一门编程语言，而是利用 JavaScript 在保证页面不被刷新、页面链接不改变的情况下与服务器交换数据并更新部分网页的技术。\n",
    "\n",
    "对于传统的网页，如果想更新其内容，那么必须要刷新整个页面，但有了 Ajax，便可以在页面不被全部刷新的情况下更新其内容。在这个过程中，页面实际上是在后台与服务器进行了数据交互，获取到数据之后，再利用 JavaScript 改变网页内容。\n",
    "\n",
    "可以到 W3School 上体验几个 Demo 来感受一下：https://www.w3school.com.cn/ajax/ajax_xmlhttprequest_send.asp"
   ],
   "id": "78e2d5cf7132add8"
  }
 ],
 "metadata": {
  "kernelspec": {
   "display_name": "Python 3",
   "language": "python",
   "name": "python3"
  },
  "language_info": {
   "codemirror_mode": {
    "name": "ipython",
    "version": 2
   },
   "file_extension": ".py",
   "mimetype": "text/x-python",
   "name": "python",
   "nbconvert_exporter": "python",
   "pygments_lexer": "ipython2",
   "version": "2.7.6"
  }
 },
 "nbformat": 4,
 "nbformat_minor": 5
}
