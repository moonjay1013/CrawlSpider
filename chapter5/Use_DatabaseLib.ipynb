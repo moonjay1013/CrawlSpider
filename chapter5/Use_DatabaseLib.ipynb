{
 "cells": [
  {
   "metadata": {},
   "cell_type": "markdown",
   "source": "<h2>数据存储</h2>",
   "id": "2efdfa50ec7cce44"
  },
  {
   "metadata": {},
   "cell_type": "markdown",
   "source": [
    "<h3>文件存储</h3>\n",
    "\n",
    "以保存成 TXT 纯文本形式，也可以保存为 JSON 格式、CSV 格式等"
   ],
   "id": "f585a52f6d0550ff"
  },
  {
   "metadata": {},
   "cell_type": "markdown",
   "source": [
    "**目标**：保存知乎上 “发现” 页面的 “近期热点” 部分，将其问题和答案统一保存成文本形式。\n",
    "\n",
    "> 可以用 `requests` 将网页源代码获取下来，然后使用 `pyquery` 解析库解析，接下来将提取的标题、回答者、回答保存到文本，代码如下："
   ],
   "id": "604731130fe0c765"
  },
  {
   "metadata": {
    "ExecuteTime": {
     "end_time": "2024-07-23T14:20:10.957898Z",
     "start_time": "2024-07-23T14:20:10.229115Z"
    }
   },
   "cell_type": "code",
   "source": [
    "import requests\n",
    "from pyquery import PyQuery as pq\n",
    "\n",
    "url = 'https://www.zhihu.com/explore'\n",
    "headers = {\n",
    "    'User-Agent': 'Mozilla/5.0 (Windows NT 10.0; Win64; x64) AppleWebKit/537.36 (KHTML, like Gecko) Chrome/126.0.0.0 Safari/537.36'\n",
    "}\n",
    "html = requests.get(url, headers=headers).text\n",
    "doc = pq(html)\n",
    "items = doc('.css-vurnku .css-1as7ang').items()\n",
    "for index, item in enumerate(items):\n",
    "    question = item.find('a').text()\n",
    "    print(question)\n",
    "    file = open('explore.txt', 'a', encoding='utf-8')\n",
    "    file.write(' '.join([str(index+1), question]))\n",
    "    file.write('\\n' + '=' * 50 + '\\n')\n",
    "    file.close()"
   ],
   "id": "f71801d95a7f20cc",
   "outputs": [
    {
     "name": "stdout",
     "output_type": "stream",
     "text": [
      "法塔赫和哈马斯签署关于结束分裂的《北京宣言》，中方发挥了哪些作用？还有哪些信息值得关注？\n",
      "如何看待官方提出「有序推进渐进式延迟法定退休年龄改革」？将带来哪些影响？\n",
      "传美国国会2024年7月22日降半旗，原因未明，有猜测称是拜登去世，这个新闻的真假对美国有什么影响？\n",
      "女子称因学历低被判去高危妊娠门诊，这是一种学历歧视吗？学历低是高危因素之一吗？\n",
      "法塔赫和哈马斯签署关于结束分裂的《北京宣言》，中方发挥了哪些作用？还有哪些信息值得关注？\n",
      "郑州发布暴雨橙色预警，主城区局部降水已超 100 毫米，目前当地情况如何？\n",
      "跳水为什么几乎全世界都玩不过中国？\n",
      "如何看待中国游客在大阪遇袭被砍伤？\n"
     ]
    }
   ],
   "execution_count": 9
  },
  {
   "metadata": {},
   "cell_type": "markdown",
   "source": [
    "**文件打开方式**\n",
    "\n",
    "```\n",
    "r：以只读方式打开文件。文件的指针将会放在文件的开头。这是默认模式。\n",
    "rb：以二进制只读方式打开一个文件。文件指针将会放在文件的开头。\n",
    "r+：以读写方式打开一个文件。文件指针将会放在文件的开头。\n",
    "rb+：以二进制读写方式打开一个文件。文件指针将会放在文件的开头。\n",
    "w：以写入方式打开一个文件。如果该文件已存在，则将其覆盖。如果该文件不存在，则创建新文件。\n",
    "wb：以二进制写入方式打开一个文件。如果该文件已存在，则将其覆盖。如果该文件不存在，则创建新文件。\n",
    "w+：以读写方式打开一个文件。如果该文件已存在，则将其覆盖。如果该文件不存在，则创建新文件。\n",
    "wb+：以二进制读写格式打开一个文件。如果该文件已存在，则将其覆盖。如果该文件不存在，则创建新文件。\n",
    "a：以追加方式打开一个文件。如果该文件已存在，文件指针将会放在文件结尾。也就是说，新的内容将会被写入到已有内容之后。如果该文件不存在，则创建新文件来写入。\n",
    "ab：以二进制追加方式打开一个文件。如果该文件已存在，则文件指针将会放在文件结尾。也就是说，新的内容将会被写入到已有内容之后。如果该文件不存在，则创建新文件来写入。\n",
    "a+：以读写方式打开一个文件。如果该文件已存在，文件指针将会放在文件的结尾。文件打开时会是追加模式。如果该文件不存在，则创建新文件来读写。\n",
    "ab+：以二进制追加方式打开一个文件。如果该文件已存在，则文件指针将会放在文件结尾。如果该文件不存在，则创建新文件用于读写。\n",
    "```"
   ],
   "id": "99f8ead96e636dc3"
  },
  {
   "metadata": {},
   "cell_type": "markdown",
   "source": [
    "**with as 语法**\n",
    "\n",
    "在 `with` 控制块结束时，文件会自动关闭，所以就不需要再调用 `close` 方法了。这种保存方式可以简写如下：\n",
    "\n",
    "```python\n",
    "with open('explore.txt', 'a', encoding='utf-8') as file:\n",
    "    file.write('\\n'.join([question, author, answer]))\n",
    "    file.write('\\n' + '=' * 50 + '\\n')\n",
    "```\n",
    "\n",
    "> 如果想保存时将原文清空，那么可以将第二个参数改写为 `w`"
   ],
   "id": "561a77daff75cca7"
  },
  {
   "metadata": {},
   "cell_type": "markdown",
   "source": [
    "**JSON 文件存储**\n",
    "\n",
    "(JSON, JavaScript Object Notation)，它通过对象和数组的组合来表示数据，构造简洁但是结构化程度非常高，是一种轻量级的数据交换格式。\n",
    "\n",
    "对象和数组\n",
    "\n",
    "在 JavaScript 语言中，一切都是对象。因此，任何支持的类型都可以通过 JSON 来表示，例如字符串、数字、对象、数组等，但是对象和数组是比较特殊且常用的两种类型\n",
    "\n",
    "- 对象：它在 JavaScript 中是使用花括号 `{}` 包裹起来的内容，数据结构为 `{key1：value1, key2：value2, ...}` 的键值对结构。在面向对象的语言中，key 为对象的属性，value 为对应的值。键名可以使用整数和字符串来表示。值的类型可以是任意类型。\n",
    "- 数组：数组在 JavaScript 中是方括号 `[]` 包裹起来的内容，数据结构为 `[\"java\", \"javascript\", \"vb\", ...]` 的索引结构。在 JavaScript 中，数组是一种比较特殊的数据类型，它也可以像对象那样使用键值对，但还是索引用得多。同样，值的类型可以是任意类型。\n",
    "\n",
    "一个 JSON 对象可以写为如下形式：\n",
    "```json\n",
    "[{\n",
    "    \"name\": \"Bob\",\n",
    "    \"gender\": \"male\",\n",
    "    \"birthday\": \"1992-10-18\"\n",
    "}, {\n",
    "     \"name\": \"Selina\",\n",
    "    \"gender\": \"female\",\n",
    "    \"birthday\": \"1995-10-18\"\n",
    "}]\n",
    "```"
   ],
   "id": "b6c23b45c9edcc67"
  },
  {
   "metadata": {},
   "cell_type": "markdown",
   "source": [
    "读取 JSON\n",
    "\n",
    "调用 `json` 库的 `loads()` 方法将 JSON 文本字符串转为 JSON 对象，可以通过 `dumps()` 方法将 JSON 对象转为文本字符串。\n",
    "\n",
    "一段 JSON 形式的字符串（str 类型），用 Python 将其转换为可操作的数据结构，如列表或字典：\n",
    "> 由于最外层是中括号，所以最终的类型是列表类型。"
   ],
   "id": "bc2742b14cfdd1da"
  },
  {
   "metadata": {
    "ExecuteTime": {
     "end_time": "2024-07-23T14:36:11.732636Z",
     "start_time": "2024-07-23T14:36:11.719098Z"
    }
   },
   "cell_type": "code",
   "source": [
    "import json\n",
    "\n",
    "str_te = '''\n",
    "[{\n",
    "    \"name\": \"Bob\",\n",
    "    \"gender\": \"male\",\n",
    "    \"birthday\": \"1992-10-18\"\n",
    "}, {\n",
    "    \"name\": \"Selina\",\n",
    "    \"gender\": \"female\",\n",
    "    \"birthday\": \"1995-10-18\"\n",
    "}]\n",
    "'''\n",
    "print(type(str_te))\n",
    "data = json.loads(str_te)\n",
    "print(data)\n",
    "print(type(data))"
   ],
   "id": "787ec07030d46ebb",
   "outputs": [
    {
     "name": "stdout",
     "output_type": "stream",
     "text": [
      "<class 'str'>\n",
      "[{'name': 'Bob', 'gender': 'male', 'birthday': '1992-10-18'}, {'name': 'Selina', 'gender': 'female', 'birthday': '1995-10-18'}]\n",
      "<class 'list'>\n"
     ]
    }
   ],
   "execution_count": 12
  },
  {
   "metadata": {},
   "cell_type": "markdown",
   "source": [
    "想取第一个元素里的 name 属性，就可以使用如下方式：\n",
    "```python\n",
    "data[0]['name']\n",
    "data[0].get('name')\n",
    "```\n",
    "\n",
    "推荐使用 get 方法，这样如果键名不存在，则不会报错，会返回 None。另外，get 方法还可以传入第二个参数（即默认值），示例如下：\n",
    "```python\n",
    "data[0].get('age')\n",
    "data[0].get('age', 25)\n",
    "```\n",
    "结果：\n",
    "```\n",
    "None\n",
    "25\n",
    "```"
   ],
   "id": "4fcc6e433d7bb4d8"
  },
  {
   "metadata": {},
   "cell_type": "markdown",
   "source": [
    "输出 JSON\n",
    "\n",
    "可以调用 `dumps` 方法将 JSON 对象转化为字符串。然后写入文件："
   ],
   "id": "4fce6449dab2faef"
  },
  {
   "metadata": {
    "ExecuteTime": {
     "end_time": "2024-07-23T14:44:46.058641Z",
     "start_time": "2024-07-23T14:44:46.044638Z"
    }
   },
   "cell_type": "code",
   "source": [
    "import json\n",
    "\n",
    "data = [{\n",
    "    \"name\": \"Bob\",\n",
    "    \"gender\": \"male\",\n",
    "    \"birthday\": \"1992-10-18\"\n",
    "}, {\n",
    "    \"name\": \"Selina\",\n",
    "    \"gender\": \"female\",\n",
    "    \"birthday\": \"1995-10-18\"\n",
    "}]\n",
    "with open('data.json', 'w') as file:\n",
    "    print(type(json.dumps(data)))\n",
    "    # file.write(json.dumps(data))\n",
    "    # 想保存 JSON 的格式，可以再加一个参数 indent，代表缩进字符个数。示例如下：\n",
    "    file.write(json.dumps(data, indent=2))"
   ],
   "id": "fd40ab30eeb883",
   "outputs": [
    {
     "name": "stdout",
     "output_type": "stream",
     "text": [
      "<class 'str'>\n"
     ]
    }
   ],
   "execution_count": 14
  },
  {
   "metadata": {},
   "cell_type": "markdown",
   "source": [
    "如果 JSON 中包含中文字符，中文字符会变成 Unicode 字符：\n",
    "```json\n",
    "[\n",
    "  {\n",
    "    \"name\": \" \\u738b\\u4f1f \",\n",
    "    \"gender\": \" \\u7537 \",\n",
    "    \"birthday\": \"1992-10-18\"\n",
    "  }\n",
    "]\n",
    "```"
   ],
   "id": "23089077436ee850"
  },
  {
   "metadata": {
    "ExecuteTime": {
     "end_time": "2024-07-23T14:48:33.464218Z",
     "start_time": "2024-07-23T14:48:33.450216Z"
    }
   },
   "cell_type": "code",
   "source": [
    "import json\n",
    "\n",
    "data = [{\n",
    "    'name': ' 王伟 ',\n",
    "    'gender': ' 男 ',\n",
    "    'birthday': '1992-10-18'\n",
    "}]\n",
    "# with open('data_cn.json', 'w') as file:\n",
    "with open('data_cn.json', 'w', encoding='utf-8') as file:\n",
    "    # 为了输出中文，还需要指定参数 ensure_ascii 为 False，另外还要规定文件输出的编码：\n",
    "    # file.write(json.dumps(data, indent=2))\n",
    "    file.write(json.dumps(data, indent=2, ensure_ascii=False))"
   ],
   "id": "59de6811d70229f2",
   "outputs": [],
   "execution_count": 16
  },
  {
   "metadata": {},
   "cell_type": "markdown",
   "source": [
    "**CSV 文件存储**\n",
    "\n",
    "(CSV，Comma-Separated Values)，其文件以纯文本形式存储表格数据。该文件是一个字符序列，可以由任意数目的记录组成，记录间以某种换行符分隔。\n",
    "\n",
    "每条记录由字段组成，字段间的分隔符是其他字符或字符串，最常见的是逗号或制表符。\n",
    "\n",
    "不过所有记录都有完全相同的字段序列，相当于一个结构化表的纯文本形式。\n",
    "\n",
    "它比 Excel 文件更加简洁，XLS 文本是电子表格，它包含了文本、数值、公式和格式等内容，而 CSV 中不包含这些内容，就是特定字符分隔的纯文本，结构简单清晰。\n",
    "\n",
    "所以，有时候用 CSV 来保存数据是比较方便的。\n",
    "\n",
    "一个简单的例子："
   ],
   "id": "4cba921fa2fe5cc"
  },
  {
   "metadata": {
    "ExecuteTime": {
     "end_time": "2024-07-23T14:50:20.373556Z",
     "start_time": "2024-07-23T14:50:20.358553Z"
    }
   },
   "cell_type": "code",
   "source": [
    "import csv\n",
    "\n",
    "with open('data.csv', 'w') as csvfile:\n",
    "    writer = csv.writer(csvfile)\n",
    "    writer.writerow(['id', 'name', 'age'])\n",
    "    writer.writerow(['10001', 'Mike', 20])\n",
    "    writer.writerow(['10002', 'Bob', 22])\n",
    "    writer.writerow(['10003', 'Jordan', 21])"
   ],
   "id": "e136dd10e84e8a9b",
   "outputs": [],
   "execution_count": 17
  },
  {
   "metadata": {},
   "cell_type": "markdown",
   "source": [
    "想修改列与列之间的分隔符，可以传入 `delimiter` 参数，其代码如下：\n",
    "```python\n",
    "import csv\n",
    "\n",
    "with open('data.csv', 'w') as csvfile:\n",
    "    writer = csv.writer(csvfile, delimiter=' ')\n",
    "    writer.writerow(['id', 'name', 'age'])\n",
    "    writer.writerow(['10001', 'Mike', 20])\n",
    "    writer.writerow(['10002', 'Bob', 22])\n",
    "    writer.writerow(['10003', 'Jordan', 21])\n",
    "```\n",
    "\n",
    "输出：\n",
    "```\n",
    "id name age\n",
    "10001 Mike 20\n",
    "10002 Bob 22\n",
    "10003 Jordan 21\n",
    "```\n",
    "\n",
    "也可以调用 `writerows` 方法同时写入多行，此时参数就需要为二维列表：\n",
    "```python\n",
    "import csv\n",
    "\n",
    "with open('data.csv', 'w') as csvfile:\n",
    "    writer = csv.writer(csvfile)\n",
    "    writer.writerow(['id', 'name', 'age'])\n",
    "    writer.writerows([['10001', 'Mike', 20], ['10002', 'Bob', 22], ['10003', 'Jordan', 21]])\n",
    "```"
   ],
   "id": "8a20feafc1b4a293"
  },
  {
   "metadata": {},
   "cell_type": "markdown",
   "source": "一般情况下，爬虫爬取的都是结构化数据，用字典来表示。在 csv 库中也提供了字典的写入方式，示例如下：",
   "id": "3e69c5530506054c"
  },
  {
   "metadata": {
    "ExecuteTime": {
     "end_time": "2024-07-23T14:53:01.687531Z",
     "start_time": "2024-07-23T14:53:01.677528Z"
    }
   },
   "cell_type": "code",
   "source": [
    "import csv\n",
    "\n",
    "with open('data_json.csv', 'w') as csvfile:\n",
    "    fieldnames = ['id', 'name', 'age']\n",
    "    writer = csv.DictWriter(csvfile, fieldnames=fieldnames)\n",
    "    writer.writeheader()\n",
    "    writer.writerow({'id': '10001', 'name': 'Mike', 'age': 20})\n",
    "    writer.writerow({'id': '10002', 'name': 'Bob', 'age': 22})\n",
    "    writer.writerow({'id': '10003', 'name': 'Jordan', 'age': 21})"
   ],
   "id": "9693da48b1d6a6ac",
   "outputs": [],
   "execution_count": 18
  },
  {
   "metadata": {},
   "cell_type": "markdown",
   "source": [
    "写入中文内容的话，可能会遇到字符编码的问题，此时需要给 `open` 参数指定编码格式。（见上文）\n",
    "\n",
    "> `pandas` 等库的话，可以调用 `DataFrame` 对象的 `to_csv` 方法来将数据写入 CSV 文件中 `⭐⭐`"
   ],
   "id": "e5b5338976498298"
  },
  {
   "metadata": {},
   "cell_type": "markdown",
   "source": "读取csv文件",
   "id": "797112b995549c7c"
  },
  {
   "metadata": {
    "ExecuteTime": {
     "end_time": "2024-07-23T14:56:40.504103Z",
     "start_time": "2024-07-23T14:56:40.491101Z"
    }
   },
   "cell_type": "code",
   "source": [
    "import csv  \n",
    "\n",
    "with open('data.csv', 'r', encoding='utf-8') as csvfile:  \n",
    "    reader = csv.reader(csvfile)  \n",
    "    for row in reader:  \n",
    "        print(row)"
   ],
   "id": "4057b94a6cc9b9a0",
   "outputs": [
    {
     "name": "stdout",
     "output_type": "stream",
     "text": [
      "['id', 'name', 'age']\n",
      "[]\n",
      "['10001', 'Mike', '20']\n",
      "[]\n",
      "['10002', 'Bob', '22']\n",
      "[]\n",
      "['10003', 'Jordan', '21']\n",
      "[]\n"
     ]
    }
   ],
   "execution_count": 19
  },
  {
   "metadata": {},
   "cell_type": "markdown",
   "source": "`pandas`可以利用 `read_csv` 方法将数据从 CSV 中读取出来，例如：",
   "id": "1bdeecf8e375f344"
  },
  {
   "metadata": {
    "ExecuteTime": {
     "end_time": "2024-07-23T14:57:16.067485Z",
     "start_time": "2024-07-23T14:57:14.059046Z"
    }
   },
   "cell_type": "code",
   "source": [
    "import pandas as pd  \n",
    "\n",
    "df = pd.read_csv('data.csv')  \n",
    "print(df)"
   ],
   "id": "c674e10b6c4a8756",
   "outputs": [
    {
     "name": "stdout",
     "output_type": "stream",
     "text": [
      "      id    name  age\n",
      "0  10001    Mike   20\n",
      "1  10002     Bob   22\n",
      "2  10003  Jordan   21\n"
     ]
    }
   ],
   "execution_count": 20
  },
  {
   "metadata": {},
   "cell_type": "markdown",
   "source": "<h3>关系型数据库<h3>",
   "id": "a9eb7f792a327f53"
  },
  {
   "metadata": {},
   "cell_type": "markdown",
   "source": [
    "关系型数据库是基于关系模型的数据库，而关系模型是通过二维表来保存的，所以它的存储方式就是行列组成的表，每一列是一个字段，每一行是一条记录。\n",
    "\n",
    "表可以看作某个实体的集合，而实体之间存在联系，这就需要表与表之间的关联关系来体现，如主键外键的关联关系。多个表组成一个数据库，也就是关系型数据库。\n",
    "\n",
    "关系型数据库有多种，如 SQLite、MySQL、Oracle、SQL Server、DB2 等。"
   ],
   "id": "936134da5d2f64cd"
  },
  {
   "metadata": {},
   "cell_type": "markdown",
   "source": [
    "以Python 3 下 MySQL 的存储为例：\n",
    "\n",
    "> 在 Python 2 中，连接 MySQL 的库大多是使用 MySQLdb，但是此库的官方并不支持 Python 3，所以这里推荐使用的库是 PyMySQL。"
   ],
   "id": "3f5e49abab3054c2"
  },
  {
   "metadata": {
    "ExecuteTime": {
     "end_time": "2024-07-31T13:46:50.695373Z",
     "start_time": "2024-07-31T13:46:50.577425Z"
    }
   },
   "cell_type": "code",
   "source": [
    "import pymysql  \n",
    "\n",
    "db = pymysql.connect(host='localhost',user='root', password='2022sql', port=3306)  \n",
    "cursor = db.cursor()  # 获得 MySQL 的操作游标，利用游标来执行 SQL 语句\n",
    "cursor.execute('SELECT VERSION()')   # 执行SQL语句\n",
    "data = cursor.fetchone()  \n",
    "print('Database version:', data)  \n",
    "cursor.execute(\"CREATE DATABASE spiders_test DEFAULT CHARACTER SET utf8\")  \n",
    "db.close()"
   ],
   "id": "5de4a41d58914053",
   "outputs": [
    {
     "name": "stdout",
     "output_type": "stream",
     "text": [
      "Database version: ('8.0.28',)\n"
     ]
    }
   ],
   "execution_count": 1
  },
  {
   "metadata": {},
   "cell_type": "markdown",
   "source": [
    "**创建表**\n",
    "\n",
    "创建数据库后，在连接时需要额外指定一个参数 `db`。\n",
    "\n",
    "接下来，新创建一个数据表 `students`，此时执行创建表的 SQL 语句即可。这里指定 3 个字段:\n",
    "> 实际上，在爬虫过程中，会根据爬取结果设计特定的字段。\n",
    "\n",
    "```\n",
    "id     学号\tvarchar\n",
    "name   姓名\tvarchar\n",
    "age    年龄\tint\n",
    "```"
   ],
   "id": "5978f71976736d3b"
  },
  {
   "metadata": {
    "ExecuteTime": {
     "end_time": "2024-07-31T13:53:33.835763Z",
     "start_time": "2024-07-31T13:53:33.795763Z"
    }
   },
   "cell_type": "code",
   "source": [
    "import pymysql\n",
    "\n",
    "db = pymysql.connect(host='localhost', user='root', password='2022sql', port=3306, db='spiders_test')\n",
    "cursor = db.cursor()\n",
    "sql = 'CREATE TABLE IF NOT EXISTS students (id VARCHAR(255) NOT NULL, name VARCHAR(255) NOT NULL, age INT NOT NULL, PRIMARY KEY (id))'\n",
    "cursor.execute(sql)\n",
    "db.close()"
   ],
   "id": "f13fc16a33a3a871",
   "outputs": [],
   "execution_count": 2
  },
  {
   "metadata": {},
   "cell_type": "markdown",
   "source": [
    "**插入数据**\n",
    "\n",
    "假如，爬取了一个学生信息，学号为 20120001，名字为 Bob，年龄为 20，那么插入数据的示例代码如下："
   ],
   "id": "bb98d7a23f9a4fd2"
  },
  {
   "metadata": {
    "ExecuteTime": {
     "end_time": "2024-07-31T13:56:09.260709Z",
     "start_time": "2024-07-31T13:56:09.218756Z"
    }
   },
   "cell_type": "code",
   "source": [
    "import pymysql\n",
    "\n",
    "id = '20120001'\n",
    "user = 'Bob'\n",
    "age = 20\n",
    "\n",
    "db = pymysql.connect(host='localhost', user='root', password='2022sql', port=3306, db='spiders_test')\n",
    "cursor = db.cursor()\n",
    "sql = 'INSERT INTO students(id, name, age) values(% s, % s, % s)'\n",
    "try:\n",
    "    cursor.execute(sql, (id, user, age))\n",
    "    db.commit()  # 需要执行 db 对象的 commit 方法才可实现数据插入，这个方法才是真正将语句提交到数据库执行的方法\n",
    "except:\n",
    "    db.rollback()  # 回滚\n",
    "db.close()"
   ],
   "id": "fea0162a04884389",
   "outputs": [],
   "execution_count": 5
  },
  {
   "metadata": {},
   "cell_type": "markdown",
   "source": [
    "这里涉及事务的问题。事务机制可以确保数据的一致性，也就是这件事要么发生了，要么没有发生。\n",
    "\n",
    "比如插入一条数据，不会存在插入一半的情况，要么全部插入，要么都不插入，这就是事务的原子性。\n",
    "\n",
    "事务的 4 个属性\n",
    "```\n",
    "属　　性\t解　　释\n",
    "原子性（atomicity）\t事务是一个不可分割的工作单位，事务中包括的诸操作要么都做，要么都不做\n",
    "一致性（consistency）\t事务必须使数据库从一个一致性状态变到另一个一致性状态。一致性与原子性是密切相关的\n",
    "隔离性（isolation）\t一个事务的执行不能被其他事务干扰，即一个事务内部的操作及使用的数据对并发的其他事务是隔离的，并发执行的各个事务之间不能互相干扰\n",
    "持久性（durability）\t持续性也称永久性（permanence），指一个事务一旦提交，它对数据库中数据的改变就应该是永久性的。接下来的其他操作或故障不应该对其有任何影响\n",
    "```\n",
    "\n",
    "插入、更新和删除操作都是对数据库进行更改的操作，而更改操作都必须为一个事务，所以这些操作的标准写法就是（可以保证数据的一致性）：\n",
    "```python\n",
    "try:\n",
    "    cursor.excute(sql)\n",
    "    db.commit()\n",
    "except:\n",
    "    db.rollback()\n",
    "```"
   ],
   "id": "c7a9d127dabf3904"
  },
  {
   "metadata": {},
   "cell_type": "markdown",
   "source": [
    "上面数据插入的操作是通过构造 SQL 语句实现的，但是很明显，这有一个极其不方便的地方，比如突然增加了性别字段 gender，此时 SQL 语句就需要改成：\n",
    "```sql\n",
    "INSERT INTO students(id, name, age, gender) values(% s, % s, % s, % s)\n",
    "```\n",
    "\n",
    "相应的元组参数则需要改成：`(id, name, age, gender)`\n",
    "\n",
    "在很多情况下，我们**要达到的效果是插入方法无需改动，做成一个通用方法，只需要传入一个动态变化的字典**：\n",
    "```json\n",
    "{\n",
    "    'id': '20120001',\n",
    "    'name': 'Bob',\n",
    "    'age': 20\n",
    "}\n",
    "```\n",
    "\n",
    "然后 SQL 语句会根据字典动态构造，元组也动态构造，这样才能实现通用的插入方法。所以，这里需要改写一下插入方法：\n",
    "> 如此以来，便实现了传入一个字典来插入数据的方法，不需要再去修改 SQL 语句和插入操作。"
   ],
   "id": "35c980096e8ed805"
  },
  {
   "metadata": {
    "ExecuteTime": {
     "end_time": "2024-07-31T14:06:58.542720Z",
     "start_time": "2024-07-31T14:06:58.530721Z"
    }
   },
   "cell_type": "code",
   "source": [
    "data = {\n",
    "    'id': '20120001',\n",
    "    'name': 'Bob',\n",
    "    'age': 20\n",
    "}\n",
    "table = 'students'\n",
    "keys = ', '.join(data.keys())\n",
    "values = ', '.join(['% s'] * len(data))\n",
    "sql = 'INSERT INTO {table}({keys}) VALUES ({values})'.format(table=table, keys=keys, values=values)\n",
    "\"\"\"\n",
    "标准写法\n",
    "\"\"\"\n",
    "print(sql)"
   ],
   "id": "63eb661bfd26862e",
   "outputs": [
    {
     "name": "stdout",
     "output_type": "stream",
     "text": [
      "INSERT INTO students(id, name, age) VALUES (% s, % s, % s)\n"
     ]
    }
   ],
   "execution_count": 6
  },
  {
   "metadata": {},
   "cell_type": "markdown",
   "source": [
    "**更新数据**\n",
    "\n",
    "> 同样用占位符的方式构造 SQL"
   ],
   "id": "1dff6378b48b0972"
  },
  {
   "metadata": {
    "ExecuteTime": {
     "end_time": "2024-07-31T14:11:20.657832Z",
     "start_time": "2024-07-31T14:11:20.617645Z"
    }
   },
   "cell_type": "code",
   "source": [
    "db = pymysql.connect(host='localhost', user='root', password='2022sql', port=3306, db='spiders_test')\n",
    "cursor = db.cursor()\n",
    "sql = 'UPDATE students SET age = % s WHERE name = % s'\n",
    "try:\n",
    "   cursor.execute(sql, (25, 'Bob'))\n",
    "   db.commit()\n",
    "except:\n",
    "   db.rollback()\n",
    "db.close()"
   ],
   "id": "a34c94f2f0b60ec0",
   "outputs": [],
   "execution_count": 9
  },
  {
   "metadata": {},
   "cell_type": "markdown",
   "source": [
    "在实际的数据抓取过程中，大部分情况下需要插入数据，\n",
    "\n",
    "但是我们关心的是会不会出现重复数据，如果出现了，我们希望更新数据而不是重复保存一次。\n",
    "\n",
    "另外，就像前面所说的动态构造 SQL 的问题，所以这里可以再实现一种去重的方法，**如果数据存在，则更新数据；如果数据不存在，则插入数据**。\n",
    "\n",
    "另外，这种做法支持灵活的字典传值。示例如下："
   ],
   "id": "52242365e71b21a0"
  },
  {
   "metadata": {
    "ExecuteTime": {
     "end_time": "2024-07-31T14:14:59.537032Z",
     "start_time": "2024-07-31T14:14:59.508033Z"
    }
   },
   "cell_type": "code",
   "source": [
    "data = {\n",
    "    'id': '20120001',\n",
    "    'name': 'Bob',\n",
    "    'age': 21\n",
    "}\n",
    "\n",
    "table = 'students'\n",
    "keys = ', '.join(data.keys())\n",
    "values = ', '.join(['% s'] * len(data))\n",
    "\n",
    "db = pymysql.connect(host='localhost', user='root', password='2022sql', port=3306, db='spiders_test')\n",
    "cursor = db.cursor()\n",
    "sql = 'INSERT INTO {table}({keys}) VALUES ({values}) ON DUPLICATE KEY UPDATE'.format(table=table, keys=keys, values=values)\n",
    "update = ','.join([\"{key} = % s\".format(key=key) for key in data])\n",
    "sql += update\n",
    "try:\n",
    "    if cursor.execute(sql, tuple(data.values())*2):\n",
    "        print('Successful')\n",
    "        db.commit()\n",
    "except:\n",
    "    print('Failed')\n",
    "    db.rollback()\n",
    "db.close()"
   ],
   "id": "15b8e651b082d867",
   "outputs": [
    {
     "name": "stdout",
     "output_type": "stream",
     "text": [
      "Failed\n"
     ]
    }
   ],
   "execution_count": 10
  },
  {
   "metadata": {},
   "cell_type": "markdown",
   "source": [
    "**删除数据**\n",
    "\n",
    "删除操作相对简单，直接使用 DELETE 语句即可，只是需要指定要删除的目标表名和删除条件，而且仍然需要使用 db 的 commit 方法才能生效。示例如下：\n",
    "\n",
    "```python\n",
    "table = 'students'\n",
    "condition = 'age > 20'\n",
    "\n",
    "sql = 'DELETE FROM  {table} WHERE {condition}'.format(table=table, condition=condition)\n",
    "try:\n",
    "    cursor.execute(sql)\n",
    "    db.commit()\n",
    "except:\n",
    "    db.rollback()\n",
    "\n",
    "db.close()\n",
    "```\n",
    "\n",
    "> 因为删除条件有多种多样，运算符有大于、小于、等于、LIKE 等，条件连接符有 AND、OR 等，所以不再继续构造复杂的判断条件。这里直接将条件当作字符串来传递，以实现删除操作。"
   ],
   "id": "bd5977c9a41a9c62"
  },
  {
   "metadata": {},
   "cell_type": "markdown",
   "source": "**查询数据**",
   "id": "7ae753dff7ab6d96"
  },
  {
   "metadata": {
    "ExecuteTime": {
     "end_time": "2024-07-31T14:18:10.680963Z",
     "start_time": "2024-07-31T14:18:10.673960Z"
    }
   },
   "cell_type": "code",
   "source": [
    "db = pymysql.connect(host='localhost', user='root', password='2022sql', port=3306, db='spiders_test')\n",
    "cursor = db.cursor()\n",
    "sql = 'SELECT * FROM students WHERE age >= 20'\n",
    "\n",
    "try:\n",
    "    cursor.execute(sql)\n",
    "    print('Count:', cursor.rowcount)\n",
    "    one = cursor.fetchone()\n",
    "    print('One:', one)\n",
    "    results = cursor.fetchall()\n",
    "    print('Results:', results)\n",
    "    print('Results Type:', type(results))\n",
    "    for row in results:\n",
    "        print(row)\n",
    "except:\n",
    "    print('Error')"
   ],
   "id": "e9e9e50049bdd38e",
   "outputs": [
    {
     "name": "stdout",
     "output_type": "stream",
     "text": [
      "Count: 1\n",
      "One: ('20120001', 'Bob', 25)\n",
      "Results: ()\n",
      "Results Type: <class 'tuple'>\n"
     ]
    }
   ],
   "execution_count": 11
  },
  {
   "metadata": {},
   "cell_type": "markdown",
   "source": "<h3>非关系型数据库</h3>",
   "id": "5a728eb38f98248b"
  },
  {
   "metadata": {},
   "cell_type": "markdown",
   "source": [
    "(NoSQL,Not Only SQL)，泛指非关系型数据库。NoSQL 是基于键值对的，而且不需要经过 SQL 层的解析，数据之间没有耦合性，性能非常高。\n",
    "\n",
    "非关系型数据库又可细分如下:\n",
    "- 键值存储数据库：代表有 Redis、Voldemort 和 Oracle BDB 等。\n",
    "- 列存储数据库：代表有 Cassandra、HBase 和 Riak 等。\n",
    "- 文档型数据库：代表有 CouchDB 和 MongoDB 等。\n",
    "- 图形数据库：代表有 Neo4J、InfoGrid 和 Infinite Graph 等。\n",
    "\n",
    "对于爬虫的数据存储来说，一条数据可能存在某些字段提取失败而缺失的情况，而且数据可能随时调整。\n",
    "\n",
    "另外，数据之间还存在嵌套关系。如果使用关系型数据库存储，一是需要提前建表，二是如果存在数据嵌套关系的话，需要进行序列化操作才可以存储，这非常不方便。\n",
    "\n",
    "如果用了非关系型数据库，就可以避免一些麻烦，更简单高效。"
   ],
   "id": "5bcd20e2e98bbaee"
  },
  {
   "metadata": {},
   "cell_type": "markdown",
   "source": [
    "**MongoDB 存储**\n",
    "\n",
    "MongoDB 是由 C++ 语言编写的非关系型数据库，是一个基于分布式文件存储的开源数据库系统，其**内容存储形式类似 JSON 对象，它的字段值可以包含其他文档、数组及文档数组**，非常灵活。"
   ],
   "id": "71c7fb862d490825"
  },
  {
   "metadata": {},
   "cell_type": "markdown",
   "source": [
    "**连接 MongoDB**\n",
    "\n",
    "连接 MongoDB 时，需要使用 `PyMongo` 库里面的 `MongoClient`。一般来说，传入 `MongoDB` 的 IP 及端口即可，其中第一个参数为地址 host，第二个参数为端口 port（如果不给它传递参数，默认是 27017）："
   ],
   "id": "760239e212899764"
  },
  {
   "metadata": {
    "ExecuteTime": {
     "end_time": "2024-07-31T14:37:40.395280Z",
     "start_time": "2024-07-31T14:37:40.156709Z"
    }
   },
   "cell_type": "code",
   "source": [
    "import pymongo\n",
    "client = pymongo.MongoClient(host='localhost', port=27017)\n",
    "# MongoClient 的第一个参数 host 还可以直接传入 MongoDB 的连接字符串，它以 mongodb 开头，例如\n",
    "# client = pymongo.MongoClient('mongodb://localhost:27017/')\n",
    "print(client)"
   ],
   "id": "3f94a878a2570f22",
   "outputs": [
    {
     "name": "stdout",
     "output_type": "stream",
     "text": [
      "MongoClient(host=['localhost:27017'], document_class=dict, tz_aware=False, connect=True)\n"
     ]
    }
   ],
   "execution_count": 12
  },
  {
   "metadata": {},
   "cell_type": "markdown",
   "source": [
    "**指定数据库**\n",
    "\n",
    "MongoDB 中可以建立多个数据库，接下来我们需要指定操作哪个数据库。这里我们以 `test` 数据库为例来说明，下一步需要在程序中指定要使用的数据库：\n",
    "\n",
    "> 这里调用 client 的 test 属性即可返回 test 数据库。\n",
    "\n",
    "`db = client.test  # db = client['test']`"
   ],
   "id": "8f56f5cd7bc79db9"
  },
  {
   "metadata": {},
   "cell_type": "markdown",
   "source": [
    "**指定集合**\n",
    "\n",
    "MongoDB 的每个数据库又包含许多集合（collection），它们类似于关系型数据库中的表。\n",
    "\n",
    "下一步需要指定要操作的集合，这里指定一个集合名称为 `students`。与指定数据库类似，指定集合也有两种方式：\n",
    "\n",
    "`collection = db.students  # collection = db['students']`"
   ],
   "id": "a9407d0b12e40f7c"
  },
  {
   "metadata": {},
   "cell_type": "markdown",
   "source": [
    "**插入数据**\n",
    "\n",
    "对于 `students` 这个集合，新建一条学生数据，这条数据以字典形式表示：\n",
    "```json\n",
    "student = {\n",
    "    'id': '20170101',\n",
    "    'name': 'Jordan',\n",
    "    'age': 20,\n",
    "    'gender': 'male'\n",
    "}\n",
    "```\n",
    "\n",
    "这里指定了学生的学号、姓名、年龄和性别。接下来，直接调用 collection 的 `insert` 方法即可插入数据，代码如下：\n",
    "```python\n",
    "result = collection.insert(student)\n",
    "print(result)\n",
    "```\n",
    "\n",
    "在 MongoDB 中，每条数据其实都有一个`_id` 属性来唯一标识。如果没有显式指明该属性，MongoDB 会自动产生一个 ObjectId 类型的_id 属性。`insert() `方法会在执行后返回`_id` 值。\n",
    "\n",
    "> PyMongo 3.x 版本 推荐 `insert_one()`和`insert_many()`"
   ],
   "id": "9531c5d083a46ce6"
  },
  {
   "metadata": {},
   "cell_type": "markdown",
   "source": "",
   "id": "8057bce7192e8fd2"
  },
  {
   "metadata": {
    "ExecuteTime": {
     "end_time": "2024-07-31T14:47:57.929258Z",
     "start_time": "2024-07-31T14:47:57.875537Z"
    }
   },
   "cell_type": "code",
   "source": [
    "import pymongo\n",
    "\n",
    "client = pymongo.MongoClient(host='localhost', port=27017)\n",
    "db = client['test']\n",
    "collection = db['students']\n",
    "\n",
    "student = {\n",
    "    'id': '20170101',\n",
    "    'name': 'Jordan',\n",
    "    'age': 20,\n",
    "    'gender': 'male'\n",
    "}\n",
    "\n",
    "result = collection.insert_one(student)\n",
    "print(result)  # 执行成功会输出`_id`, 自动创建数据库`test`和collection"
   ],
   "id": "9beebacd2d6b84de",
   "outputs": [
    {
     "name": "stdout",
     "output_type": "stream",
     "text": [
      "InsertOneResult(ObjectId('66aa4e9d09755574552c9eb0'), acknowledged=True)\n"
     ]
    }
   ],
   "execution_count": 14
  },
  {
   "metadata": {},
   "cell_type": "markdown",
   "source": "![](mongodb_test.png)",
   "id": "a62e25af7e954e59"
  },
  {
   "metadata": {},
   "cell_type": "markdown",
   "source": "",
   "id": "a63d585d4cf2196d"
  },
  {
   "metadata": {},
   "cell_type": "markdown",
   "source": "同时插入多条数据，只需要以列表形式传递即可，示例如下：",
   "id": "e9374c38704ab600"
  },
  {
   "metadata": {
    "ExecuteTime": {
     "end_time": "2024-07-31T14:54:15.953628Z",
     "start_time": "2024-07-31T14:54:15.928624Z"
    }
   },
   "cell_type": "code",
   "source": [
    "import pymongo\n",
    "\n",
    "student1 = {\n",
    "    'id': '20120202',\n",
    "    'name': 'James',\n",
    "    'age': 19,\n",
    "    'gender': 'male'\n",
    "}\n",
    "\n",
    "student2 = {\n",
    "    'id': '20170202',\n",
    "    'name': 'Mike',\n",
    "    'age': 21,\n",
    "    'gender': 'male'\n",
    "}\n",
    "\n",
    "client = pymongo.MongoClient(host='localhost', port=27017)\n",
    "db = client['test']\n",
    "collection = db['students']\n",
    "\n",
    "result = collection.insert_many([student1, student2])\n",
    "print(result)\n",
    "# print(result.inserted_ids)"
   ],
   "id": "c0aa0faf8a664bdc",
   "outputs": [
    {
     "name": "stdout",
     "output_type": "stream",
     "text": [
      "InsertManyResult([ObjectId('66aa501709755574552c9eb4'), ObjectId('66aa501709755574552c9eb5')], acknowledged=True)\n"
     ]
    }
   ],
   "execution_count": 18
  },
  {
   "metadata": {},
   "cell_type": "markdown",
   "source": [
    "**查询**\n",
    "\n",
    "插入数据后，可以利用 `find_one()` 或 `find()` 方法进行查询，其中 `find_one()` 查询得到的是单个结果（dict类型），`find()` 则返回一个生成器对象。示例如下："
   ],
   "id": "76919376639b6b5"
  },
  {
   "metadata": {
    "ExecuteTime": {
     "end_time": "2024-08-01T00:45:00.205047Z",
     "start_time": "2024-08-01T00:45:00.158746Z"
    }
   },
   "cell_type": "code",
   "source": [
    "import pymongo\n",
    "\n",
    "client = pymongo.MongoClient(host='localhost', port=27017)\n",
    "db = client['test']\n",
    "collection = db['students']\n",
    "result = collection.find_one({'name': 'Mike'})\n",
    "print(type(result))\n",
    "print(result)  # dict\n",
    "\n",
    "# 也可以根据 ObjectId 来查询，此时需要使用 bson 库里面的 objectid：\n",
    "from bson.objectid import ObjectId\n",
    "result_by_id = collection.find_one({'_id': ObjectId('66aa501709755574552c9eb4')})\n",
    "print(result_by_id, type(result_by_id))  # dict\n",
    "\n",
    "# 查找所有 gender 未 male的\n",
    "results = collection.find({'gender': 'male'})\n",
    "print(results)  # 返回结果是 Cursor 类型，它相当于一个生成器\n",
    "for result in results:\n",
    "    print(result)\n",
    "    \n",
    "result_age = collection.find({'age': {'$gt': 19}})  # 查找age>19的\n",
    "print([r for r in result_age])"
   ],
   "id": "26ddf6df0983898b",
   "outputs": [
    {
     "name": "stdout",
     "output_type": "stream",
     "text": [
      "<class 'dict'>\n",
      "{'_id': ObjectId('66aa501709755574552c9eb5'), 'id': '20170202', 'name': 'Mike', 'age': 21, 'gender': 'male'}\n",
      "{'_id': ObjectId('66aa501709755574552c9eb4'), 'id': '20120202', 'name': 'James', 'age': 19, 'gender': 'male'} <class 'dict'>\n",
      "<pymongo.cursor.Cursor object at 0x000001A30040B1C0>\n",
      "{'_id': ObjectId('66aa4e9d09755574552c9eb0'), 'id': '20170101', 'name': 'Jordan', 'age': 20, 'gender': 'male'}\n",
      "{'_id': ObjectId('66aa501709755574552c9eb4'), 'id': '20120202', 'name': 'James', 'age': 19, 'gender': 'male'}\n",
      "{'_id': ObjectId('66aa501709755574552c9eb5'), 'id': '20170202', 'name': 'Mike', 'age': 21, 'gender': 'male'}\n",
      "[{'_id': ObjectId('66aa4e9d09755574552c9eb0'), 'id': '20170101', 'name': 'Jordan', 'age': 20, 'gender': 'male'}, {'_id': ObjectId('66aa501709755574552c9eb5'), 'id': '20170202', 'name': 'Mike', 'age': 21, 'gender': 'male'}]\n"
     ]
    }
   ],
   "execution_count": 8
  },
  {
   "metadata": {},
   "cell_type": "markdown",
   "source": [
    "比较符号\n",
    "\n",
    "![](comparison.png)"
   ],
   "id": "9c75c1444ff47210"
  },
  {
   "metadata": {},
   "cell_type": "markdown",
   "source": "另外，还可以进行正则匹配查询。例如，查询名字以 'J' 开头的学生数据，示例如下：",
   "id": "404f2f99f0599702"
  },
  {
   "metadata": {
    "ExecuteTime": {
     "end_time": "2024-08-01T00:52:10.299712Z",
     "start_time": "2024-08-01T00:52:10.277711Z"
    }
   },
   "cell_type": "code",
   "source": [
    "import pymongo\n",
    "\n",
    "client = pymongo.MongoClient(host='localhost', port=27017)\n",
    "db = client['test']\n",
    "collection = db['students']\n",
    "\n",
    "results = collection.find({'name': {'$regex': '^J.*'}})\n",
    "print([r for r in results])"
   ],
   "id": "f7360909939b95c2",
   "outputs": [
    {
     "name": "stdout",
     "output_type": "stream",
     "text": [
      "[{'_id': ObjectId('66aa4e9d09755574552c9eb0'), 'id': '20170101', 'name': 'Jordan', 'age': 20, 'gender': 'male'}, {'_id': ObjectId('66aa501709755574552c9eb4'), 'id': '20120202', 'name': 'James', 'age': 19, 'gender': 'male'}]\n"
     ]
    }
   ],
   "execution_count": 10
  },
  {
   "metadata": {},
   "cell_type": "markdown",
   "source": [
    "功能符号\n",
    "\n",
    "![](func_symbol.png)\n",
    "\n",
    "详细见官方文档：https://www.mongodb.com/zh-cn/docs/manual/reference/operator/query/"
   ],
   "id": "642f5dd8871e8b39"
  },
  {
   "metadata": {},
   "cell_type": "markdown",
   "source": [
    "**计数**\n",
    "\n",
    "要统计查询结果有多少条数据，可以调用 `count()` 方法。比如，统计所有数据条数：\n",
    "> 新版本的PyMongo中已经废弃了该方法，包括insert、count，在使用方法时通过insert_one、insert_many来表示插入一条数据和多条数据，通过`count_estimated_document_count()`、`count_documents(filter = {})`来表示统计结果的数量和统计需要指定过滤条件后的结果的数量，并且我在使用时不能同时使用find方法，不然会报错。find方法本身就是all的结果，还有一个find_one。"
   ],
   "id": "87f072daf577b4db"
  },
  {
   "metadata": {
    "ExecuteTime": {
     "end_time": "2024-08-01T01:29:31.989304Z",
     "start_time": "2024-08-01T01:29:31.953319Z"
    }
   },
   "cell_type": "code",
   "source": [
    "import pymongo\n",
    "\n",
    "client = pymongo.MongoClient(host='localhost', port=27017)\n",
    "db = client['test']\n",
    "collection = db['students']\n",
    "\n",
    "count = collection.count_documents({'age': {'$gt': 19}})\n",
    "print(count)"
   ],
   "id": "c7ac7144eb419deb",
   "outputs": [
    {
     "name": "stdout",
     "output_type": "stream",
     "text": [
      "2\n"
     ]
    }
   ],
   "execution_count": 16
  },
  {
   "metadata": {},
   "cell_type": "markdown",
   "source": [
    "**排序**\n",
    "\n",
    "排序时，直接调用 `sort()` 方法，并在其中传入排序的字段及升降序标志即可。示例如下："
   ],
   "id": "c3277ed416a57e76"
  },
  {
   "metadata": {
    "ExecuteTime": {
     "end_time": "2024-08-01T01:30:08.278533Z",
     "start_time": "2024-08-01T01:30:08.225411Z"
    }
   },
   "cell_type": "code",
   "source": [
    "import pymongo\n",
    "\n",
    "client = pymongo.MongoClient(host='localhost', port=27017)\n",
    "db = client['test']\n",
    "collection = db['students']\n",
    "\n",
    "results = collection.find().sort('name', pymongo.ASCENDING)\n",
    "print([result['name'] for result in results])"
   ],
   "id": "f7084897afe2cbc3",
   "outputs": [
    {
     "name": "stdout",
     "output_type": "stream",
     "text": [
      "['James', 'Jordan', 'Mike']\n"
     ]
    }
   ],
   "execution_count": 17
  },
  {
   "metadata": {},
   "cell_type": "markdown",
   "source": [
    "**偏移**\n",
    "\n",
    "在某些情况下，我们可能想只取某几个元素，这时可以利用 `skip()` 方法偏移几个位置，比如偏移 2，就忽略前两个元素，得到第三个及以后的元素："
   ],
   "id": "bc257c5defbfc36c"
  },
  {
   "metadata": {
    "ExecuteTime": {
     "end_time": "2024-08-01T01:32:05.832507Z",
     "start_time": "2024-08-01T01:32:05.785905Z"
    }
   },
   "cell_type": "code",
   "source": [
    "import pymongo\n",
    "\n",
    "client = pymongo.MongoClient(host='localhost', port=27017)\n",
    "db = client['test']\n",
    "collection = db['students']\n",
    "\n",
    "results = collection.find().sort('name', pymongo.ASCENDING).skip(2)\n",
    "print([result['name'] for result in results])\n",
    "\n",
    "# 用 limit() 方法指定要取的结果个数，示例如下：\n",
    "results = collection.find().sort('name', pymongo.ASCENDING).skip(1).limit(1)\n",
    "print([result['name'] for result in results])"
   ],
   "id": "7e5b120445a6eb2d",
   "outputs": [
    {
     "name": "stdout",
     "output_type": "stream",
     "text": [
      "['Mike']\n",
      "['Jordan']\n"
     ]
    }
   ],
   "execution_count": 19
  },
  {
   "metadata": {},
   "cell_type": "markdown",
   "source": [
    "值得**注意**的是，在数据库数量非常庞大的时候，如千万、亿级别，最好不要使用大的偏移量来查询数据，因为这样很可能导致内存溢出。此时可以使用类似如下操作来查询：\n",
    "> 需要记录好上次查询的`_id`\n",
    "```python\n",
    "from bson.objectid import ObjectId\n",
    "collection.find({'_id': {'$gt': ObjectId('66aa4e9d09755574552c9eb0')}})\n",
    "```"
   ],
   "id": "3cd1c4974768ff26"
  },
  {
   "metadata": {},
   "cell_type": "markdown",
   "source": [
    "**更新**\n",
    "\n",
    "使用 `update_one()` or `update_many()` 方法，指定更新的条件和更新后的数据即可。例如：\n",
    "> 这样可以只更新 student 字典内存在的字段。如果原先还有其他字段，则不会更新，也不会删除\n",
    "> 第二个参数需要使用 `$` 类型操作符作为字典的键名"
   ],
   "id": "57a51e9688790142"
  },
  {
   "metadata": {
    "ExecuteTime": {
     "end_time": "2024-08-01T01:41:02.166267Z",
     "start_time": "2024-08-01T01:41:02.127429Z"
    }
   },
   "cell_type": "code",
   "source": [
    "import pymongo\n",
    "\n",
    "client = pymongo.MongoClient(host='localhost', port=27017)\n",
    "db = client['test']\n",
    "collection = db['students']\n",
    "\n",
    "condition = {'name': 'James'}\n",
    "student = collection.find_one(condition)\n",
    "student['age'] = 35\n",
    "result = collection.update_one(condition, {'$set': student})\n",
    "print(result)\n",
    "\n",
    "# 指定查询条件为年龄大于 20，然后更新条件为 `{'$inc': {'age': 1}}`，也就是年龄加 1，执行之后会将符合条件的数据年龄加 1\n",
    "condition = {'age': {'$gt': 20}}\n",
    "result_inc = collection.update_many(condition, {'$inc': {'age': 1}})\n",
    "print(result_inc)\n",
    "print(result_inc.matched_count, result_inc.modified_count)"
   ],
   "id": "139e501ad1bf5a07",
   "outputs": [
    {
     "name": "stdout",
     "output_type": "stream",
     "text": [
      "UpdateResult({'n': 1, 'nModified': 0, 'ok': 1.0, 'updatedExisting': True}, acknowledged=True)\n",
      "UpdateResult({'n': 2, 'nModified': 2, 'ok': 1.0, 'updatedExisting': True}, acknowledged=True)\n",
      "2 2\n"
     ]
    }
   ],
   "execution_count": 23
  },
  {
   "metadata": {},
   "cell_type": "markdown",
   "source": [
    "**删除**\n",
    "\n",
    "删除操作比较简单，直接调用 `delete_one()` 和 `delete_many()` 方法指定删除的条件即可，此时符合条件的所有数据均会被删除。\n",
    "\n",
    "更多见官方文档：https://www.mongodb.com/zh-cn/docs/languages/python/pymongo-driver/current/"
   ],
   "id": "3b3fe0197e2ef5d5"
  },
  {
   "metadata": {},
   "cell_type": "markdown",
   "source": [
    "<h4> Redis 存储 </h4>\n",
    "\n",
    "TO BE CONTINUED..."
   ],
   "id": "eabcc63eff46965b"
  }
 ],
 "metadata": {
  "kernelspec": {
   "display_name": "Python 3",
   "language": "python",
   "name": "python3"
  },
  "language_info": {
   "codemirror_mode": {
    "name": "ipython",
    "version": 2
   },
   "file_extension": ".py",
   "mimetype": "text/x-python",
   "name": "python",
   "nbconvert_exporter": "python",
   "pygments_lexer": "ipython2",
   "version": "2.7.6"
  }
 },
 "nbformat": 4,
 "nbformat_minor": 5
}
