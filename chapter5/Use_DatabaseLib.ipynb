{
 "cells": [
  {
   "metadata": {},
   "cell_type": "markdown",
   "source": "<h2>数据存储</h2>",
   "id": "2efdfa50ec7cce44"
  },
  {
   "metadata": {},
   "cell_type": "markdown",
   "source": [
    "<h3>文件存储</h3>\n",
    "\n",
    "以保存成 TXT 纯文本形式，也可以保存为 JSON 格式、CSV 格式等"
   ],
   "id": "f585a52f6d0550ff"
  },
  {
   "metadata": {},
   "cell_type": "markdown",
   "source": [
    "**目标**：保存知乎上 “发现” 页面的 “近期热点” 部分，将其问题和答案统一保存成文本形式。\n",
    "\n",
    "> 可以用 `requests` 将网页源代码获取下来，然后使用 `pyquery` 解析库解析，接下来将提取的标题、回答者、回答保存到文本，代码如下："
   ],
   "id": "604731130fe0c765"
  },
  {
   "metadata": {
    "ExecuteTime": {
     "end_time": "2024-07-23T14:20:10.957898Z",
     "start_time": "2024-07-23T14:20:10.229115Z"
    }
   },
   "cell_type": "code",
   "source": [
    "import requests\n",
    "from pyquery import PyQuery as pq\n",
    "\n",
    "url = 'https://www.zhihu.com/explore'\n",
    "headers = {\n",
    "    'User-Agent': 'Mozilla/5.0 (Windows NT 10.0; Win64; x64) AppleWebKit/537.36 (KHTML, like Gecko) Chrome/126.0.0.0 Safari/537.36'\n",
    "}\n",
    "html = requests.get(url, headers=headers).text\n",
    "doc = pq(html)\n",
    "items = doc('.css-vurnku .css-1as7ang').items()\n",
    "for index, item in enumerate(items):\n",
    "    question = item.find('a').text()\n",
    "    print(question)\n",
    "    file = open('explore.txt', 'a', encoding='utf-8')\n",
    "    file.write(' '.join([str(index+1), question]))\n",
    "    file.write('\\n' + '=' * 50 + '\\n')\n",
    "    file.close()"
   ],
   "id": "f71801d95a7f20cc",
   "outputs": [
    {
     "name": "stdout",
     "output_type": "stream",
     "text": [
      "法塔赫和哈马斯签署关于结束分裂的《北京宣言》，中方发挥了哪些作用？还有哪些信息值得关注？\n",
      "如何看待官方提出「有序推进渐进式延迟法定退休年龄改革」？将带来哪些影响？\n",
      "传美国国会2024年7月22日降半旗，原因未明，有猜测称是拜登去世，这个新闻的真假对美国有什么影响？\n",
      "女子称因学历低被判去高危妊娠门诊，这是一种学历歧视吗？学历低是高危因素之一吗？\n",
      "法塔赫和哈马斯签署关于结束分裂的《北京宣言》，中方发挥了哪些作用？还有哪些信息值得关注？\n",
      "郑州发布暴雨橙色预警，主城区局部降水已超 100 毫米，目前当地情况如何？\n",
      "跳水为什么几乎全世界都玩不过中国？\n",
      "如何看待中国游客在大阪遇袭被砍伤？\n"
     ]
    }
   ],
   "execution_count": 9
  },
  {
   "metadata": {},
   "cell_type": "markdown",
   "source": [
    "**文件打开方式**\n",
    "\n",
    "```\n",
    "r：以只读方式打开文件。文件的指针将会放在文件的开头。这是默认模式。\n",
    "rb：以二进制只读方式打开一个文件。文件指针将会放在文件的开头。\n",
    "r+：以读写方式打开一个文件。文件指针将会放在文件的开头。\n",
    "rb+：以二进制读写方式打开一个文件。文件指针将会放在文件的开头。\n",
    "w：以写入方式打开一个文件。如果该文件已存在，则将其覆盖。如果该文件不存在，则创建新文件。\n",
    "wb：以二进制写入方式打开一个文件。如果该文件已存在，则将其覆盖。如果该文件不存在，则创建新文件。\n",
    "w+：以读写方式打开一个文件。如果该文件已存在，则将其覆盖。如果该文件不存在，则创建新文件。\n",
    "wb+：以二进制读写格式打开一个文件。如果该文件已存在，则将其覆盖。如果该文件不存在，则创建新文件。\n",
    "a：以追加方式打开一个文件。如果该文件已存在，文件指针将会放在文件结尾。也就是说，新的内容将会被写入到已有内容之后。如果该文件不存在，则创建新文件来写入。\n",
    "ab：以二进制追加方式打开一个文件。如果该文件已存在，则文件指针将会放在文件结尾。也就是说，新的内容将会被写入到已有内容之后。如果该文件不存在，则创建新文件来写入。\n",
    "a+：以读写方式打开一个文件。如果该文件已存在，文件指针将会放在文件的结尾。文件打开时会是追加模式。如果该文件不存在，则创建新文件来读写。\n",
    "ab+：以二进制追加方式打开一个文件。如果该文件已存在，则文件指针将会放在文件结尾。如果该文件不存在，则创建新文件用于读写。\n",
    "```"
   ],
   "id": "99f8ead96e636dc3"
  },
  {
   "metadata": {},
   "cell_type": "markdown",
   "source": [
    "**with as 语法**\n",
    "\n",
    "在 `with` 控制块结束时，文件会自动关闭，所以就不需要再调用 `close` 方法了。这种保存方式可以简写如下：\n",
    "\n",
    "```python\n",
    "with open('explore.txt', 'a', encoding='utf-8') as file:\n",
    "    file.write('\\n'.join([question, author, answer]))\n",
    "    file.write('\\n' + '=' * 50 + '\\n')\n",
    "```\n",
    "\n",
    "> 如果想保存时将原文清空，那么可以将第二个参数改写为 `w`"
   ],
   "id": "561a77daff75cca7"
  },
  {
   "metadata": {},
   "cell_type": "markdown",
   "source": [
    "**JSON 文件存储**\n",
    "\n",
    "(JSON, JavaScript Object Notation)，它通过对象和数组的组合来表示数据，构造简洁但是结构化程度非常高，是一种轻量级的数据交换格式。\n",
    "\n",
    "对象和数组\n",
    "\n",
    "在 JavaScript 语言中，一切都是对象。因此，任何支持的类型都可以通过 JSON 来表示，例如字符串、数字、对象、数组等，但是对象和数组是比较特殊且常用的两种类型\n",
    "\n",
    "- 对象：它在 JavaScript 中是使用花括号 `{}` 包裹起来的内容，数据结构为 `{key1：value1, key2：value2, ...}` 的键值对结构。在面向对象的语言中，key 为对象的属性，value 为对应的值。键名可以使用整数和字符串来表示。值的类型可以是任意类型。\n",
    "- 数组：数组在 JavaScript 中是方括号 `[]` 包裹起来的内容，数据结构为 `[\"java\", \"javascript\", \"vb\", ...]` 的索引结构。在 JavaScript 中，数组是一种比较特殊的数据类型，它也可以像对象那样使用键值对，但还是索引用得多。同样，值的类型可以是任意类型。\n",
    "\n",
    "一个 JSON 对象可以写为如下形式：\n",
    "```json\n",
    "[{\n",
    "    \"name\": \"Bob\",\n",
    "    \"gender\": \"male\",\n",
    "    \"birthday\": \"1992-10-18\"\n",
    "}, {\n",
    "     \"name\": \"Selina\",\n",
    "    \"gender\": \"female\",\n",
    "    \"birthday\": \"1995-10-18\"\n",
    "}]\n",
    "```"
   ],
   "id": "b6c23b45c9edcc67"
  },
  {
   "metadata": {},
   "cell_type": "markdown",
   "source": [
    "读取 JSON\n",
    "\n",
    "调用 `json` 库的 `loads()` 方法将 JSON 文本字符串转为 JSON 对象，可以通过 `dumps()` 方法将 JSON 对象转为文本字符串。\n",
    "\n",
    "一段 JSON 形式的字符串（str 类型），用 Python 将其转换为可操作的数据结构，如列表或字典：\n",
    "> 由于最外层是中括号，所以最终的类型是列表类型。"
   ],
   "id": "bc2742b14cfdd1da"
  },
  {
   "metadata": {
    "ExecuteTime": {
     "end_time": "2024-07-23T14:36:11.732636Z",
     "start_time": "2024-07-23T14:36:11.719098Z"
    }
   },
   "cell_type": "code",
   "source": [
    "import json\n",
    "\n",
    "str_te = '''\n",
    "[{\n",
    "    \"name\": \"Bob\",\n",
    "    \"gender\": \"male\",\n",
    "    \"birthday\": \"1992-10-18\"\n",
    "}, {\n",
    "    \"name\": \"Selina\",\n",
    "    \"gender\": \"female\",\n",
    "    \"birthday\": \"1995-10-18\"\n",
    "}]\n",
    "'''\n",
    "print(type(str_te))\n",
    "data = json.loads(str_te)\n",
    "print(data)\n",
    "print(type(data))"
   ],
   "id": "787ec07030d46ebb",
   "outputs": [
    {
     "name": "stdout",
     "output_type": "stream",
     "text": [
      "<class 'str'>\n",
      "[{'name': 'Bob', 'gender': 'male', 'birthday': '1992-10-18'}, {'name': 'Selina', 'gender': 'female', 'birthday': '1995-10-18'}]\n",
      "<class 'list'>\n"
     ]
    }
   ],
   "execution_count": 12
  },
  {
   "metadata": {},
   "cell_type": "markdown",
   "source": [
    "想取第一个元素里的 name 属性，就可以使用如下方式：\n",
    "```python\n",
    "data[0]['name']\n",
    "data[0].get('name')\n",
    "```\n",
    "\n",
    "推荐使用 get 方法，这样如果键名不存在，则不会报错，会返回 None。另外，get 方法还可以传入第二个参数（即默认值），示例如下：\n",
    "```python\n",
    "data[0].get('age')\n",
    "data[0].get('age', 25)\n",
    "```\n",
    "结果：\n",
    "```\n",
    "None\n",
    "25\n",
    "```"
   ],
   "id": "4fcc6e433d7bb4d8"
  },
  {
   "metadata": {},
   "cell_type": "markdown",
   "source": [
    "输出 JSON\n",
    "\n",
    "可以调用 `dumps` 方法将 JSON 对象转化为字符串。然后写入文件："
   ],
   "id": "4fce6449dab2faef"
  },
  {
   "metadata": {
    "ExecuteTime": {
     "end_time": "2024-07-23T14:44:46.058641Z",
     "start_time": "2024-07-23T14:44:46.044638Z"
    }
   },
   "cell_type": "code",
   "source": [
    "import json\n",
    "\n",
    "data = [{\n",
    "    \"name\": \"Bob\",\n",
    "    \"gender\": \"male\",\n",
    "    \"birthday\": \"1992-10-18\"\n",
    "}, {\n",
    "    \"name\": \"Selina\",\n",
    "    \"gender\": \"female\",\n",
    "    \"birthday\": \"1995-10-18\"\n",
    "}]\n",
    "with open('data.json', 'w') as file:\n",
    "    print(type(json.dumps(data)))\n",
    "    # file.write(json.dumps(data))\n",
    "    # 想保存 JSON 的格式，可以再加一个参数 indent，代表缩进字符个数。示例如下：\n",
    "    file.write(json.dumps(data, indent=2))"
   ],
   "id": "fd40ab30eeb883",
   "outputs": [
    {
     "name": "stdout",
     "output_type": "stream",
     "text": [
      "<class 'str'>\n"
     ]
    }
   ],
   "execution_count": 14
  },
  {
   "metadata": {},
   "cell_type": "markdown",
   "source": [
    "如果 JSON 中包含中文字符，中文字符会变成 Unicode 字符：\n",
    "```json\n",
    "[\n",
    "  {\n",
    "    \"name\": \" \\u738b\\u4f1f \",\n",
    "    \"gender\": \" \\u7537 \",\n",
    "    \"birthday\": \"1992-10-18\"\n",
    "  }\n",
    "]\n",
    "```"
   ],
   "id": "23089077436ee850"
  },
  {
   "metadata": {
    "ExecuteTime": {
     "end_time": "2024-07-23T14:48:33.464218Z",
     "start_time": "2024-07-23T14:48:33.450216Z"
    }
   },
   "cell_type": "code",
   "source": [
    "import json\n",
    "\n",
    "data = [{\n",
    "    'name': ' 王伟 ',\n",
    "    'gender': ' 男 ',\n",
    "    'birthday': '1992-10-18'\n",
    "}]\n",
    "# with open('data_cn.json', 'w') as file:\n",
    "with open('data_cn.json', 'w', encoding='utf-8') as file:\n",
    "    # 为了输出中文，还需要指定参数 ensure_ascii 为 False，另外还要规定文件输出的编码：\n",
    "    # file.write(json.dumps(data, indent=2))\n",
    "    file.write(json.dumps(data, indent=2, ensure_ascii=False))"
   ],
   "id": "59de6811d70229f2",
   "outputs": [],
   "execution_count": 16
  },
  {
   "metadata": {},
   "cell_type": "markdown",
   "source": [
    "**CSV 文件存储**\n",
    "\n",
    "(CSV，Comma-Separated Values)，其文件以纯文本形式存储表格数据。该文件是一个字符序列，可以由任意数目的记录组成，记录间以某种换行符分隔。\n",
    "\n",
    "每条记录由字段组成，字段间的分隔符是其他字符或字符串，最常见的是逗号或制表符。\n",
    "\n",
    "不过所有记录都有完全相同的字段序列，相当于一个结构化表的纯文本形式。\n",
    "\n",
    "它比 Excel 文件更加简洁，XLS 文本是电子表格，它包含了文本、数值、公式和格式等内容，而 CSV 中不包含这些内容，就是特定字符分隔的纯文本，结构简单清晰。\n",
    "\n",
    "所以，有时候用 CSV 来保存数据是比较方便的。\n",
    "\n",
    "一个简单的例子："
   ],
   "id": "4cba921fa2fe5cc"
  },
  {
   "metadata": {
    "ExecuteTime": {
     "end_time": "2024-07-23T14:50:20.373556Z",
     "start_time": "2024-07-23T14:50:20.358553Z"
    }
   },
   "cell_type": "code",
   "source": [
    "import csv\n",
    "\n",
    "with open('data.csv', 'w') as csvfile:\n",
    "    writer = csv.writer(csvfile)\n",
    "    writer.writerow(['id', 'name', 'age'])\n",
    "    writer.writerow(['10001', 'Mike', 20])\n",
    "    writer.writerow(['10002', 'Bob', 22])\n",
    "    writer.writerow(['10003', 'Jordan', 21])"
   ],
   "id": "e136dd10e84e8a9b",
   "outputs": [],
   "execution_count": 17
  },
  {
   "metadata": {},
   "cell_type": "markdown",
   "source": [
    "想修改列与列之间的分隔符，可以传入 `delimiter` 参数，其代码如下：\n",
    "```python\n",
    "import csv\n",
    "\n",
    "with open('data.csv', 'w') as csvfile:\n",
    "    writer = csv.writer(csvfile, delimiter=' ')\n",
    "    writer.writerow(['id', 'name', 'age'])\n",
    "    writer.writerow(['10001', 'Mike', 20])\n",
    "    writer.writerow(['10002', 'Bob', 22])\n",
    "    writer.writerow(['10003', 'Jordan', 21])\n",
    "```\n",
    "\n",
    "输出：\n",
    "```\n",
    "id name age\n",
    "10001 Mike 20\n",
    "10002 Bob 22\n",
    "10003 Jordan 21\n",
    "```\n",
    "\n",
    "也可以调用 `writerows` 方法同时写入多行，此时参数就需要为二维列表：\n",
    "```python\n",
    "import csv\n",
    "\n",
    "with open('data.csv', 'w') as csvfile:\n",
    "    writer = csv.writer(csvfile)\n",
    "    writer.writerow(['id', 'name', 'age'])\n",
    "    writer.writerows([['10001', 'Mike', 20], ['10002', 'Bob', 22], ['10003', 'Jordan', 21]])\n",
    "```"
   ],
   "id": "8a20feafc1b4a293"
  },
  {
   "metadata": {},
   "cell_type": "markdown",
   "source": "一般情况下，爬虫爬取的都是结构化数据，用字典来表示。在 csv 库中也提供了字典的写入方式，示例如下：",
   "id": "3e69c5530506054c"
  },
  {
   "metadata": {
    "ExecuteTime": {
     "end_time": "2024-07-23T14:53:01.687531Z",
     "start_time": "2024-07-23T14:53:01.677528Z"
    }
   },
   "cell_type": "code",
   "source": [
    "import csv\n",
    "\n",
    "with open('data_json.csv', 'w') as csvfile:\n",
    "    fieldnames = ['id', 'name', 'age']\n",
    "    writer = csv.DictWriter(csvfile, fieldnames=fieldnames)\n",
    "    writer.writeheader()\n",
    "    writer.writerow({'id': '10001', 'name': 'Mike', 'age': 20})\n",
    "    writer.writerow({'id': '10002', 'name': 'Bob', 'age': 22})\n",
    "    writer.writerow({'id': '10003', 'name': 'Jordan', 'age': 21})"
   ],
   "id": "9693da48b1d6a6ac",
   "outputs": [],
   "execution_count": 18
  },
  {
   "metadata": {},
   "cell_type": "markdown",
   "source": [
    "写入中文内容的话，可能会遇到字符编码的问题，此时需要给 `open` 参数指定编码格式。（见上文）\n",
    "\n",
    "> `pandas` 等库的话，可以调用 `DataFrame` 对象的 `to_csv` 方法来将数据写入 CSV 文件中 `⭐⭐`"
   ],
   "id": "e5b5338976498298"
  },
  {
   "metadata": {},
   "cell_type": "markdown",
   "source": "读取csv文件",
   "id": "797112b995549c7c"
  },
  {
   "metadata": {
    "ExecuteTime": {
     "end_time": "2024-07-23T14:56:40.504103Z",
     "start_time": "2024-07-23T14:56:40.491101Z"
    }
   },
   "cell_type": "code",
   "source": [
    "import csv  \n",
    "\n",
    "with open('data.csv', 'r', encoding='utf-8') as csvfile:  \n",
    "    reader = csv.reader(csvfile)  \n",
    "    for row in reader:  \n",
    "        print(row)"
   ],
   "id": "4057b94a6cc9b9a0",
   "outputs": [
    {
     "name": "stdout",
     "output_type": "stream",
     "text": [
      "['id', 'name', 'age']\n",
      "[]\n",
      "['10001', 'Mike', '20']\n",
      "[]\n",
      "['10002', 'Bob', '22']\n",
      "[]\n",
      "['10003', 'Jordan', '21']\n",
      "[]\n"
     ]
    }
   ],
   "execution_count": 19
  },
  {
   "metadata": {},
   "cell_type": "markdown",
   "source": "`pandas`可以利用 `read_csv` 方法将数据从 CSV 中读取出来，例如：",
   "id": "1bdeecf8e375f344"
  },
  {
   "metadata": {
    "ExecuteTime": {
     "end_time": "2024-07-23T14:57:16.067485Z",
     "start_time": "2024-07-23T14:57:14.059046Z"
    }
   },
   "cell_type": "code",
   "source": [
    "import pandas as pd  \n",
    "\n",
    "df = pd.read_csv('data.csv')  \n",
    "print(df)"
   ],
   "id": "c674e10b6c4a8756",
   "outputs": [
    {
     "name": "stdout",
     "output_type": "stream",
     "text": [
      "      id    name  age\n",
      "0  10001    Mike   20\n",
      "1  10002     Bob   22\n",
      "2  10003  Jordan   21\n"
     ]
    }
   ],
   "execution_count": 20
  },
  {
   "metadata": {},
   "cell_type": "markdown",
   "source": "<h3>关系型数据库<h3>",
   "id": "a9eb7f792a327f53"
  }
 ],
 "metadata": {
  "kernelspec": {
   "display_name": "Python 3",
   "language": "python",
   "name": "python3"
  },
  "language_info": {
   "codemirror_mode": {
    "name": "ipython",
    "version": 2
   },
   "file_extension": ".py",
   "mimetype": "text/x-python",
   "name": "python",
   "nbconvert_exporter": "python",
   "pygments_lexer": "ipython2",
   "version": "2.7.6"
  }
 },
 "nbformat": 4,
 "nbformat_minor": 5
}
